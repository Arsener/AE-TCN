{
 "cells": [
  {
   "cell_type": "code",
   "execution_count": 1,
   "metadata": {},
   "outputs": [],
   "source": [
    "import torch\n",
    "import torch.nn as nn\n",
    "from ae_tcn import *"
   ]
  },
  {
   "cell_type": "code",
   "execution_count": 2,
   "metadata": {},
   "outputs": [
    {
     "data": {
      "text/plain": [
       "tensor([[[0.2409, 0.3914, 0.8919, 0.1811, 0.2092, 0.5130, 0.5842, 0.7224,\n",
       "          0.0950, 0.0856, 0.4203, 0.5684, 0.6873, 0.5449, 0.8076, 0.5188,\n",
       "          0.4465, 0.5085, 0.7235, 0.1270, 0.6352, 0.6771, 0.6598, 0.6555],\n",
       "         [0.5316, 0.2575, 0.7264, 0.8344, 0.4696, 0.9487, 0.0181, 0.5086,\n",
       "          0.6404, 0.2371, 0.5982, 0.3019, 0.1573, 0.1711, 0.6184, 0.9259,\n",
       "          0.7415, 0.6890, 0.6159, 0.9564, 0.8840, 0.0510, 0.1352, 0.2129],\n",
       "         [0.9042, 0.9917, 0.9441, 0.2805, 0.4529, 0.8412, 0.4776, 0.8667,\n",
       "          0.0358, 0.9381, 0.4363, 0.6755, 0.5514, 0.8020, 0.8033, 0.3901,\n",
       "          0.5462, 0.1862, 0.1042, 0.9036, 0.8585, 0.7799, 0.7164, 0.5898],\n",
       "         [0.0015, 0.5969, 0.8002, 0.9407, 0.6556, 0.3587, 0.1240, 0.0203,\n",
       "          0.5769, 0.8292, 0.5953, 0.4922, 0.1412, 0.2646, 0.8616, 0.9211,\n",
       "          0.1412, 0.4923, 0.7095, 0.8550, 0.6798, 0.9167, 0.7529, 0.0922]],\n",
       "\n",
       "        [[0.2497, 0.4857, 0.6459, 0.1065, 0.9966, 0.2404, 0.5369, 0.3606,\n",
       "          0.3124, 0.5176, 0.4275, 0.5562, 0.4099, 0.3639, 0.1828, 0.0903,\n",
       "          0.0162, 0.2537, 0.8200, 0.0771, 0.4466, 0.9093, 0.3453, 0.8062],\n",
       "         [0.0249, 0.2506, 0.5607, 0.9534, 0.3774, 0.8569, 0.5671, 0.8709,\n",
       "          0.5479, 0.5283, 0.6285, 0.5564, 0.9864, 0.1716, 0.7174, 0.3924,\n",
       "          0.5770, 0.6896, 0.3394, 0.0548, 0.2123, 0.9406, 0.7705, 0.4941],\n",
       "         [0.2666, 0.5494, 0.2856, 0.0718, 0.9935, 0.0321, 0.1347, 0.5086,\n",
       "          0.4706, 0.8595, 0.5368, 0.2210, 0.2505, 0.1338, 0.7703, 0.3247,\n",
       "          0.5573, 0.8326, 0.4915, 0.8799, 0.4803, 0.1977, 0.7838, 0.2021],\n",
       "         [0.6733, 0.2733, 0.8016, 0.4412, 0.8509, 0.0939, 0.6398, 0.0102,\n",
       "          0.6240, 0.6357, 0.2623, 0.2645, 0.2996, 0.8240, 0.9432, 0.7536,\n",
       "          0.5277, 0.5772, 0.9809, 0.0592, 0.1559, 0.9922, 0.9607, 0.3804]]])"
      ]
     },
     "execution_count": 2,
     "metadata": {},
     "output_type": "execute_result"
    }
   ],
   "source": [
    "x = torch.rand(2, 4, 24)\n",
    "x"
   ]
  },
  {
   "cell_type": "code",
   "execution_count": 3,
   "metadata": {},
   "outputs": [
    {
     "data": {
      "text/plain": [
       "AutoEncoderTCN(\n",
       "  (ae_tcn): Sequential(\n",
       "    (0): TCNEncoder(\n",
       "      (encoder): Sequential(\n",
       "        (0): DilationTCN(\n",
       "          (network): Sequential(\n",
       "            (0): TCNBlock(\n",
       "              (tcn): Sequential(\n",
       "                (0): Conv1d(4, 10, kernel_size=(2,), stride=(1,), padding=(1,))\n",
       "                (1): Chomp1d()\n",
       "                (2): LeakyReLU(negative_slope=0.01)\n",
       "                (3): Conv1d(10, 10, kernel_size=(2,), stride=(1,), padding=(1,))\n",
       "                (4): Chomp1d()\n",
       "                (5): LeakyReLU(negative_slope=0.01)\n",
       "              )\n",
       "              (up_down_sampling): Conv1d(4, 10, kernel_size=(1,), stride=(1,))\n",
       "            )\n",
       "            (1): TCNBlock(\n",
       "              (tcn): Sequential(\n",
       "                (0): Conv1d(10, 10, kernel_size=(2,), stride=(1,), padding=(2,), dilation=(2,))\n",
       "                (1): Chomp1d()\n",
       "                (2): LeakyReLU(negative_slope=0.01)\n",
       "                (3): Conv1d(10, 10, kernel_size=(2,), stride=(1,), padding=(2,), dilation=(2,))\n",
       "                (4): Chomp1d()\n",
       "                (5): LeakyReLU(negative_slope=0.01)\n",
       "              )\n",
       "            )\n",
       "            (2): TCNBlock(\n",
       "              (tcn): Sequential(\n",
       "                (0): Conv1d(10, 10, kernel_size=(2,), stride=(1,), padding=(4,), dilation=(4,))\n",
       "                (1): Chomp1d()\n",
       "                (2): LeakyReLU(negative_slope=0.01)\n",
       "                (3): Conv1d(10, 10, kernel_size=(2,), stride=(1,), padding=(4,), dilation=(4,))\n",
       "                (4): Chomp1d()\n",
       "                (5): LeakyReLU(negative_slope=0.01)\n",
       "              )\n",
       "            )\n",
       "            (3): TCNBlock(\n",
       "              (tcn): Sequential(\n",
       "                (0): Conv1d(10, 10, kernel_size=(2,), stride=(1,), padding=(8,), dilation=(8,))\n",
       "                (1): Chomp1d()\n",
       "                (2): LeakyReLU(negative_slope=0.01)\n",
       "                (3): Conv1d(10, 10, kernel_size=(2,), stride=(1,), padding=(8,), dilation=(8,))\n",
       "                (4): Chomp1d()\n",
       "                (5): LeakyReLU(negative_slope=0.01)\n",
       "              )\n",
       "            )\n",
       "            (4): TCNBlock(\n",
       "              (tcn): Sequential(\n",
       "                (0): Conv1d(10, 10, kernel_size=(2,), stride=(1,), padding=(16,), dilation=(16,))\n",
       "                (1): Chomp1d()\n",
       "                (2): LeakyReLU(negative_slope=0.01)\n",
       "                (3): Conv1d(10, 10, kernel_size=(2,), stride=(1,), padding=(16,), dilation=(16,))\n",
       "                (4): Chomp1d()\n",
       "                (5): LeakyReLU(negative_slope=0.01)\n",
       "              )\n",
       "            )\n",
       "          )\n",
       "        )\n",
       "        (1): AdaptiveMaxPool1d(output_size=1)\n",
       "        (2): Transpose()\n",
       "        (3): Linear(in_features=10, out_features=5, bias=True)\n",
       "      )\n",
       "    )\n",
       "    (1): TCNDecoder(\n",
       "      (decoder): Sequential(\n",
       "        (0): Transpose()\n",
       "        (1): Linear(in_features=1, out_features=24, bias=True)\n",
       "        (2): DilationTCN(\n",
       "          (network): Sequential(\n",
       "            (0): TCNBlock(\n",
       "              (tcn): Sequential(\n",
       "                (0): Conv1d(5, 10, kernel_size=(2,), stride=(1,), padding=(1,))\n",
       "                (1): Chomp1d()\n",
       "                (2): LeakyReLU(negative_slope=0.01)\n",
       "                (3): Conv1d(10, 10, kernel_size=(2,), stride=(1,), padding=(1,))\n",
       "                (4): Chomp1d()\n",
       "                (5): LeakyReLU(negative_slope=0.01)\n",
       "              )\n",
       "              (up_down_sampling): Conv1d(5, 10, kernel_size=(1,), stride=(1,))\n",
       "            )\n",
       "            (1): TCNBlock(\n",
       "              (tcn): Sequential(\n",
       "                (0): Conv1d(10, 10, kernel_size=(2,), stride=(1,), padding=(2,), dilation=(2,))\n",
       "                (1): Chomp1d()\n",
       "                (2): LeakyReLU(negative_slope=0.01)\n",
       "                (3): Conv1d(10, 10, kernel_size=(2,), stride=(1,), padding=(2,), dilation=(2,))\n",
       "                (4): Chomp1d()\n",
       "                (5): LeakyReLU(negative_slope=0.01)\n",
       "              )\n",
       "            )\n",
       "            (2): TCNBlock(\n",
       "              (tcn): Sequential(\n",
       "                (0): Conv1d(10, 10, kernel_size=(2,), stride=(1,), padding=(4,), dilation=(4,))\n",
       "                (1): Chomp1d()\n",
       "                (2): LeakyReLU(negative_slope=0.01)\n",
       "                (3): Conv1d(10, 10, kernel_size=(2,), stride=(1,), padding=(4,), dilation=(4,))\n",
       "                (4): Chomp1d()\n",
       "                (5): LeakyReLU(negative_slope=0.01)\n",
       "              )\n",
       "            )\n",
       "            (3): TCNBlock(\n",
       "              (tcn): Sequential(\n",
       "                (0): Conv1d(10, 10, kernel_size=(2,), stride=(1,), padding=(8,), dilation=(8,))\n",
       "                (1): Chomp1d()\n",
       "                (2): LeakyReLU(negative_slope=0.01)\n",
       "                (3): Conv1d(10, 10, kernel_size=(2,), stride=(1,), padding=(8,), dilation=(8,))\n",
       "                (4): Chomp1d()\n",
       "                (5): LeakyReLU(negative_slope=0.01)\n",
       "              )\n",
       "            )\n",
       "            (4): TCNBlock(\n",
       "              (tcn): Sequential(\n",
       "                (0): Conv1d(10, 10, kernel_size=(2,), stride=(1,), padding=(16,), dilation=(16,))\n",
       "                (1): Chomp1d()\n",
       "                (2): LeakyReLU(negative_slope=0.01)\n",
       "                (3): Conv1d(10, 10, kernel_size=(2,), stride=(1,), padding=(16,), dilation=(16,))\n",
       "                (4): Chomp1d()\n",
       "                (5): LeakyReLU(negative_slope=0.01)\n",
       "              )\n",
       "            )\n",
       "          )\n",
       "        )\n",
       "      )\n",
       "    )\n",
       "    (2): Conv1d(10, 4, kernel_size=(1,), stride=(1,))\n",
       "  )\n",
       ")"
      ]
     },
     "execution_count": 3,
     "metadata": {},
     "output_type": "execute_result"
    }
   ],
   "source": [
    "model = AutoEncoderTCN()\n",
    "model"
   ]
  },
  {
   "cell_type": "code",
   "execution_count": 4,
   "metadata": {
    "scrolled": true
   },
   "outputs": [
    {
     "data": {
      "text/plain": [
       "tensor([[[ 0.2542,  0.0313,  0.1553,  0.0526,  0.1074,  0.4127,  0.3191,\n",
       "           0.2708,  0.1705, -0.0403,  0.3062,  0.0042, -0.2564,  0.2979,\n",
       "          -0.0073,  0.3526, -0.0497,  0.0717,  0.1713, -0.0088,  0.0354,\n",
       "          -0.2139,  0.0063,  0.3146],\n",
       "         [ 0.3710,  0.1377,  0.5509,  0.0360,  0.4124,  0.1864,  0.5437,\n",
       "           0.2115,  0.4536,  0.3948,  0.6532,  0.4352,  0.1381,  0.2033,\n",
       "           0.5417,  0.4387,  0.4333,  0.4483,  0.4827,  0.3000,  0.6074,\n",
       "           0.3257,  0.6334,  0.1754],\n",
       "         [-0.2128, -0.0371,  0.0245, -0.0096,  0.0050, -0.4473, -0.1503,\n",
       "          -0.2087, -0.0417,  0.2390, -0.0815,  0.1627,  0.3910, -0.3273,\n",
       "           0.2548, -0.1766,  0.2712,  0.1819, -0.0115,  0.1164,  0.1833,\n",
       "           0.4547,  0.2424, -0.3410],\n",
       "         [ 0.1798, -0.0573, -0.1252, -0.1930, -0.1409,  0.1888,  0.0408,\n",
       "           0.0860, -0.0083, -0.2203,  0.1245, -0.0920, -0.4284,  0.0860,\n",
       "          -0.3533,  0.0807, -0.2950, -0.1945, -0.0346, -0.0726, -0.1759,\n",
       "          -0.4811, -0.2119,  0.1048]],\n",
       "\n",
       "        [[ 0.2556,  0.0268,  0.1612,  0.0496,  0.1063,  0.4113,  0.3192,\n",
       "           0.2712,  0.1726, -0.0357,  0.3079,  0.0060, -0.2637,  0.2945,\n",
       "          -0.0059,  0.3575, -0.0499,  0.0770,  0.1718, -0.0127,  0.0396,\n",
       "          -0.2128,  0.0061,  0.3091],\n",
       "         [ 0.3699,  0.1403,  0.5493,  0.0361,  0.4147,  0.1896,  0.5424,\n",
       "           0.2124,  0.4508,  0.3928,  0.6512,  0.4349,  0.1413,  0.2091,\n",
       "           0.5418,  0.4347,  0.4314,  0.4463,  0.4813,  0.2983,  0.6054,\n",
       "           0.3217,  0.6326,  0.1773],\n",
       "         [-0.2130, -0.0334,  0.0207, -0.0086,  0.0064, -0.4454, -0.1483,\n",
       "          -0.2088, -0.0423,  0.2363, -0.0800,  0.1629,  0.3987, -0.3223,\n",
       "           0.2565, -0.1779,  0.2723,  0.1800, -0.0102,  0.1198,  0.1811,\n",
       "           0.4550,  0.2448, -0.3373],\n",
       "         [ 0.1806, -0.0624, -0.1227, -0.1979, -0.1427,  0.1834,  0.0420,\n",
       "           0.0835, -0.0073, -0.2194,  0.1259, -0.0914, -0.4363,  0.0787,\n",
       "          -0.3579,  0.0805, -0.2938, -0.1943, -0.0331, -0.0752, -0.1729,\n",
       "          -0.4821, -0.2098,  0.1004]]], grad_fn=<SqueezeBackward1>)"
      ]
     },
     "execution_count": 4,
     "metadata": {},
     "output_type": "execute_result"
    }
   ],
   "source": [
    "output = model(x)\n",
    "output"
   ]
  },
  {
   "cell_type": "code",
   "execution_count": 5,
   "metadata": {},
   "outputs": [
    {
     "data": {
      "text/plain": [
       "torch.Size([2, 4, 24])"
      ]
     },
     "execution_count": 5,
     "metadata": {},
     "output_type": "execute_result"
    }
   ],
   "source": [
    "output.shape"
   ]
  },
  {
   "cell_type": "code",
   "execution_count": 9,
   "metadata": {
    "scrolled": true
   },
   "outputs": [
    {
     "data": {
      "text/plain": [
       "Sequential(\n",
       "  (0): TCNEncoder(\n",
       "    (encoder): Sequential(\n",
       "      (0): DilationTCN(\n",
       "        (network): Sequential(\n",
       "          (0): TCNBlock(\n",
       "            (tcn): Sequential(\n",
       "              (0): Conv1d(4, 10, kernel_size=(2,), stride=(1,), padding=(1,))\n",
       "              (1): Chomp1d()\n",
       "              (2): LeakyReLU(negative_slope=0.01)\n",
       "              (3): Conv1d(10, 10, kernel_size=(2,), stride=(1,), padding=(1,))\n",
       "              (4): Chomp1d()\n",
       "              (5): LeakyReLU(negative_slope=0.01)\n",
       "            )\n",
       "            (up_down_sampling): Conv1d(4, 10, kernel_size=(1,), stride=(1,))\n",
       "            (relu): LeakyReLU(negative_slope=0.01)\n",
       "          )\n",
       "          (1): TCNBlock(\n",
       "            (tcn): Sequential(\n",
       "              (0): Conv1d(10, 10, kernel_size=(2,), stride=(1,), padding=(2,), dilation=(2,))\n",
       "              (1): Chomp1d()\n",
       "              (2): LeakyReLU(negative_slope=0.01)\n",
       "              (3): Conv1d(10, 10, kernel_size=(2,), stride=(1,), padding=(2,), dilation=(2,))\n",
       "              (4): Chomp1d()\n",
       "              (5): LeakyReLU(negative_slope=0.01)\n",
       "            )\n",
       "            (relu): LeakyReLU(negative_slope=0.01)\n",
       "          )\n",
       "          (2): TCNBlock(\n",
       "            (tcn): Sequential(\n",
       "              (0): Conv1d(10, 10, kernel_size=(2,), stride=(1,), padding=(4,), dilation=(4,))\n",
       "              (1): Chomp1d()\n",
       "              (2): LeakyReLU(negative_slope=0.01)\n",
       "              (3): Conv1d(10, 10, kernel_size=(2,), stride=(1,), padding=(4,), dilation=(4,))\n",
       "              (4): Chomp1d()\n",
       "              (5): LeakyReLU(negative_slope=0.01)\n",
       "            )\n",
       "            (relu): LeakyReLU(negative_slope=0.01)\n",
       "          )\n",
       "          (3): TCNBlock(\n",
       "            (tcn): Sequential(\n",
       "              (0): Conv1d(10, 10, kernel_size=(2,), stride=(1,), padding=(8,), dilation=(8,))\n",
       "              (1): Chomp1d()\n",
       "              (2): LeakyReLU(negative_slope=0.01)\n",
       "              (3): Conv1d(10, 10, kernel_size=(2,), stride=(1,), padding=(8,), dilation=(8,))\n",
       "              (4): Chomp1d()\n",
       "              (5): LeakyReLU(negative_slope=0.01)\n",
       "            )\n",
       "            (relu): LeakyReLU(negative_slope=0.01)\n",
       "          )\n",
       "          (4): TCNBlock(\n",
       "            (tcn): Sequential(\n",
       "              (0): Conv1d(10, 10, kernel_size=(2,), stride=(1,), padding=(16,), dilation=(16,))\n",
       "              (1): Chomp1d()\n",
       "              (2): LeakyReLU(negative_slope=0.01)\n",
       "              (3): Conv1d(10, 10, kernel_size=(2,), stride=(1,), padding=(16,), dilation=(16,))\n",
       "              (4): Chomp1d()\n",
       "              (5): LeakyReLU(negative_slope=0.01)\n",
       "            )\n",
       "            (relu): LeakyReLU(negative_slope=0.01)\n",
       "          )\n",
       "        )\n",
       "      )\n",
       "      (1): AdaptiveMaxPool1d(output_size=1)\n",
       "      (2): Transpose()\n",
       "      (3): Linear(in_features=10, out_features=5, bias=True)\n",
       "    )\n",
       "  )\n",
       ")"
      ]
     },
     "execution_count": 9,
     "metadata": {},
     "output_type": "execute_result"
    }
   ],
   "source": [
    "layers = list(model.ae_tcn.children())\n",
    "encoder = nn.Sequential(*layers[:-1]) \n",
    "encoder"
   ]
  },
  {
   "cell_type": "code",
   "execution_count": 14,
   "metadata": {},
   "outputs": [
    {
     "data": {
      "text/plain": [
       "torch.Size([2, 1, 5])"
      ]
     },
     "execution_count": 14,
     "metadata": {},
     "output_type": "execute_result"
    }
   ],
   "source": [
    "encoder(x).shape"
   ]
  },
  {
   "cell_type": "code",
   "execution_count": 4,
   "metadata": {},
   "outputs": [],
   "source": [
    "import json\n",
    "t = {'ss':'gg'}\n",
    "with open('test.txt', 'w') as f:\n",
    "    json.dump(t, f)"
   ]
  },
  {
   "cell_type": "code",
   "execution_count": 7,
   "metadata": {},
   "outputs": [
    {
     "data": {
      "text/plain": [
       "array([[0.0662918 , 0.21491427, 0.24592332, 0.83223128, 0.55519726,\n",
       "        0.92635879],\n",
       "       [0.30298795, 0.74151675, 0.11780557, 0.88411639, 0.92238706,\n",
       "        0.11445098],\n",
       "       [0.95803676, 0.0744373 , 0.73087636, 0.6552559 , 0.27092587,\n",
       "        0.55949527],\n",
       "       [0.64071354, 0.74512438, 0.74691057, 0.71991843, 0.49381706,\n",
       "        0.64234496]])"
      ]
     },
     "execution_count": 7,
     "metadata": {},
     "output_type": "execute_result"
    }
   ],
   "source": [
    "import numpy as np\n",
    "p = np.random.rand(4, 6)\n",
    "p"
   ]
  },
  {
   "cell_type": "code",
   "execution_count": 11,
   "metadata": {},
   "outputs": [
    {
     "data": {
      "text/plain": [
       "array([[[0.0662918 , 0.21491427, 0.24592332, 0.83223128],\n",
       "        [0.55519726, 0.92635879, 0.30298795, 0.74151675],\n",
       "        [0.11780557, 0.88411639, 0.92238706, 0.11445098]],\n",
       "\n",
       "       [[0.95803676, 0.0744373 , 0.73087636, 0.6552559 ],\n",
       "        [0.27092587, 0.55949527, 0.64071354, 0.74512438],\n",
       "        [0.74691057, 0.71991843, 0.49381706, 0.64234496]]])"
      ]
     },
     "execution_count": 11,
     "metadata": {},
     "output_type": "execute_result"
    }
   ],
   "source": [
    "p.reshape((2, 3, 4))\n"
   ]
  },
  {
   "cell_type": "code",
   "execution_count": 21,
   "metadata": {},
   "outputs": [
    {
     "ename": "TypeError",
     "evalue": "object() takes no parameters",
     "output_type": "error",
     "traceback": [
      "\u001b[1;31m---------------------------------------------------------------------------\u001b[0m",
      "\u001b[1;31mTypeError\u001b[0m                                 Traceback (most recent call last)",
      "\u001b[1;32m<ipython-input-21-1fc1be0743f4>\u001b[0m in \u001b[0;36m<module>\u001b[1;34m\u001b[0m\n\u001b[1;32m----> 1\u001b[1;33m \u001b[0mtorch\u001b[0m\u001b[1;33m.\u001b[0m\u001b[0mutils\u001b[0m\u001b[1;33m.\u001b[0m\u001b[0mdata\u001b[0m\u001b[1;33m.\u001b[0m\u001b[0mDataset\u001b[0m\u001b[1;33m(\u001b[0m\u001b[0mx\u001b[0m\u001b[1;33m)\u001b[0m\u001b[1;33m\u001b[0m\u001b[1;33m\u001b[0m\u001b[0m\n\u001b[0m",
      "\u001b[1;31mTypeError\u001b[0m: object() takes no parameters"
     ]
    }
   ],
   "source": [
    "torch.utils.data.Dataset(x)"
   ]
  },
  {
   "cell_type": "code",
   "execution_count": null,
   "metadata": {},
   "outputs": [],
   "source": []
  }
 ],
 "metadata": {
  "kernelspec": {
   "display_name": "Python 3",
   "language": "python",
   "name": "python3"
  },
  "language_info": {
   "codemirror_mode": {
    "name": "ipython",
    "version": 3
   },
   "file_extension": ".py",
   "mimetype": "text/x-python",
   "name": "python",
   "nbconvert_exporter": "python",
   "pygments_lexer": "ipython3",
   "version": "3.6.8"
  }
 },
 "nbformat": 4,
 "nbformat_minor": 2
}
