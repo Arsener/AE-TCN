{
 "cells": [
  {
   "cell_type": "code",
   "execution_count": 1,
   "metadata": {},
   "outputs": [],
   "source": [
    "import torch\n",
    "import torch.nn as nn\n",
    "from ae_tcn import *"
   ]
  },
  {
   "cell_type": "code",
   "execution_count": 2,
   "metadata": {},
   "outputs": [
    {
     "data": {
      "text/plain": [
       "tensor([[[0.6805, 0.4355, 0.1601, 0.7652, 0.8565, 0.3488, 0.1584, 0.4761,\n",
       "          0.7181, 0.0932, 0.1159, 0.2489, 0.8041, 0.2414, 0.7562, 0.3716,\n",
       "          0.2802, 0.0372, 0.4501, 0.0606, 0.1389, 0.9370, 0.2124, 0.6328],\n",
       "         [0.8038, 0.0729, 0.2177, 0.3249, 0.4134, 0.7588, 0.5773, 0.8983,\n",
       "          0.0957, 0.9978, 0.3815, 0.5511, 0.9562, 0.9330, 0.8224, 0.4812,\n",
       "          0.1976, 0.2948, 0.4169, 0.2675, 0.0864, 0.0370, 0.2862, 0.0253],\n",
       "         [0.7673, 0.2127, 0.6317, 0.2725, 0.4775, 0.9757, 0.9309, 0.5292,\n",
       "          0.1552, 0.3893, 0.8793, 0.8935, 0.0185, 0.6888, 0.9355, 0.9128,\n",
       "          0.4731, 0.3850, 0.1378, 0.9346, 0.2556, 0.5309, 0.9798, 0.1093],\n",
       "         [0.0741, 0.3762, 0.2206, 0.1271, 0.3706, 0.4812, 0.6546, 0.2219,\n",
       "          0.4835, 0.3823, 0.1408, 0.8111, 0.5935, 0.6955, 0.0619, 0.8651,\n",
       "          0.5197, 0.7749, 0.8592, 0.7043, 0.2869, 0.9421, 0.5821, 0.8974]],\n",
       "\n",
       "        [[0.2848, 0.7052, 0.1206, 0.7866, 0.6299, 0.8323, 0.4913, 0.7886,\n",
       "          0.0530, 0.8101, 0.8941, 0.2095, 0.0015, 0.3737, 0.5035, 0.2352,\n",
       "          0.6975, 0.4796, 0.2403, 0.3247, 0.9943, 0.0695, 0.5632, 0.1305],\n",
       "         [0.4094, 0.0490, 0.8130, 0.6106, 0.8397, 0.0446, 0.1176, 0.4319,\n",
       "          0.7714, 0.8892, 0.6927, 0.2839, 0.1262, 0.2559, 0.1404, 0.3680,\n",
       "          0.2683, 0.2594, 0.2126, 0.3391, 0.6179, 0.3400, 0.3485, 0.9575],\n",
       "         [0.7569, 0.9097, 0.7169, 0.9683, 0.4203, 0.8048, 0.7881, 0.2046,\n",
       "          0.2677, 0.9143, 0.0622, 0.7121, 0.8692, 0.0860, 0.8954, 0.3507,\n",
       "          0.6556, 0.9892, 0.8225, 0.2570, 0.9183, 0.5359, 0.8239, 0.6761],\n",
       "         [0.6273, 0.9003, 0.0897, 0.1164, 0.0859, 0.9741, 0.0359, 0.1847,\n",
       "          0.5028, 0.0360, 0.7957, 0.4074, 0.2446, 0.3581, 0.6924, 0.3569,\n",
       "          0.0207, 0.0466, 0.1644, 0.9436, 0.1676, 0.7242, 0.4071, 0.8507]]])"
      ]
     },
     "execution_count": 2,
     "metadata": {},
     "output_type": "execute_result"
    }
   ],
   "source": [
    "x = torch.rand(2, 4, 24)\n",
    "x"
   ]
  },
  {
   "cell_type": "code",
   "execution_count": 3,
   "metadata": {},
   "outputs": [
    {
     "data": {
      "text/plain": [
       "AutoEncoderTCN(\n",
       "  (ae_tcn): Sequential(\n",
       "    (0): TCNEncoder(\n",
       "      (encoder): Sequential(\n",
       "        (0): DilationTCN(\n",
       "          (network): Sequential(\n",
       "            (0): TCNBlock(\n",
       "              (tcn): Sequential(\n",
       "                (0): Conv1d(4, 10, kernel_size=(2,), stride=(1,), padding=(1,))\n",
       "                (1): Chomp1d()\n",
       "                (2): LeakyReLU(negative_slope=0.01)\n",
       "                (3): Conv1d(10, 10, kernel_size=(2,), stride=(1,), padding=(1,))\n",
       "                (4): Chomp1d()\n",
       "                (5): LeakyReLU(negative_slope=0.01)\n",
       "              )\n",
       "              (up_down_sampling): Conv1d(4, 10, kernel_size=(1,), stride=(1,))\n",
       "            )\n",
       "            (1): TCNBlock(\n",
       "              (tcn): Sequential(\n",
       "                (0): Conv1d(10, 10, kernel_size=(2,), stride=(1,), padding=(2,), dilation=(2,))\n",
       "                (1): Chomp1d()\n",
       "                (2): LeakyReLU(negative_slope=0.01)\n",
       "                (3): Conv1d(10, 10, kernel_size=(2,), stride=(1,), padding=(2,), dilation=(2,))\n",
       "                (4): Chomp1d()\n",
       "                (5): LeakyReLU(negative_slope=0.01)\n",
       "              )\n",
       "            )\n",
       "            (2): TCNBlock(\n",
       "              (tcn): Sequential(\n",
       "                (0): Conv1d(10, 10, kernel_size=(2,), stride=(1,), padding=(4,), dilation=(4,))\n",
       "                (1): Chomp1d()\n",
       "                (2): LeakyReLU(negative_slope=0.01)\n",
       "                (3): Conv1d(10, 10, kernel_size=(2,), stride=(1,), padding=(4,), dilation=(4,))\n",
       "                (4): Chomp1d()\n",
       "                (5): LeakyReLU(negative_slope=0.01)\n",
       "              )\n",
       "            )\n",
       "            (3): TCNBlock(\n",
       "              (tcn): Sequential(\n",
       "                (0): Conv1d(10, 10, kernel_size=(2,), stride=(1,), padding=(8,), dilation=(8,))\n",
       "                (1): Chomp1d()\n",
       "                (2): LeakyReLU(negative_slope=0.01)\n",
       "                (3): Conv1d(10, 10, kernel_size=(2,), stride=(1,), padding=(8,), dilation=(8,))\n",
       "                (4): Chomp1d()\n",
       "                (5): LeakyReLU(negative_slope=0.01)\n",
       "              )\n",
       "            )\n",
       "            (4): TCNBlock(\n",
       "              (tcn): Sequential(\n",
       "                (0): Conv1d(10, 10, kernel_size=(2,), stride=(1,), padding=(16,), dilation=(16,))\n",
       "                (1): Chomp1d()\n",
       "                (2): LeakyReLU(negative_slope=0.01)\n",
       "                (3): Conv1d(10, 10, kernel_size=(2,), stride=(1,), padding=(16,), dilation=(16,))\n",
       "                (4): Chomp1d()\n",
       "                (5): LeakyReLU(negative_slope=0.01)\n",
       "              )\n",
       "            )\n",
       "          )\n",
       "        )\n",
       "        (1): AdaptiveMaxPool1d(output_size=1)\n",
       "        (2): Transpose()\n",
       "        (3): Linear(in_features=10, out_features=5, bias=True)\n",
       "      )\n",
       "    )\n",
       "    (1): TCNDecoder(\n",
       "      (decoder): Sequential(\n",
       "        (0): Transpose()\n",
       "        (1): Linear(in_features=1, out_features=24, bias=True)\n",
       "        (2): DilationTCN(\n",
       "          (network): Sequential(\n",
       "            (0): TCNBlock(\n",
       "              (tcn): Sequential(\n",
       "                (0): Conv1d(5, 10, kernel_size=(2,), stride=(1,), padding=(1,))\n",
       "                (1): Chomp1d()\n",
       "                (2): LeakyReLU(negative_slope=0.01)\n",
       "                (3): Conv1d(10, 10, kernel_size=(2,), stride=(1,), padding=(1,))\n",
       "                (4): Chomp1d()\n",
       "                (5): LeakyReLU(negative_slope=0.01)\n",
       "              )\n",
       "              (up_down_sampling): Conv1d(5, 10, kernel_size=(1,), stride=(1,))\n",
       "            )\n",
       "            (1): TCNBlock(\n",
       "              (tcn): Sequential(\n",
       "                (0): Conv1d(10, 10, kernel_size=(2,), stride=(1,), padding=(2,), dilation=(2,))\n",
       "                (1): Chomp1d()\n",
       "                (2): LeakyReLU(negative_slope=0.01)\n",
       "                (3): Conv1d(10, 10, kernel_size=(2,), stride=(1,), padding=(2,), dilation=(2,))\n",
       "                (4): Chomp1d()\n",
       "                (5): LeakyReLU(negative_slope=0.01)\n",
       "              )\n",
       "            )\n",
       "            (2): TCNBlock(\n",
       "              (tcn): Sequential(\n",
       "                (0): Conv1d(10, 10, kernel_size=(2,), stride=(1,), padding=(4,), dilation=(4,))\n",
       "                (1): Chomp1d()\n",
       "                (2): LeakyReLU(negative_slope=0.01)\n",
       "                (3): Conv1d(10, 10, kernel_size=(2,), stride=(1,), padding=(4,), dilation=(4,))\n",
       "                (4): Chomp1d()\n",
       "                (5): LeakyReLU(negative_slope=0.01)\n",
       "              )\n",
       "            )\n",
       "            (3): TCNBlock(\n",
       "              (tcn): Sequential(\n",
       "                (0): Conv1d(10, 10, kernel_size=(2,), stride=(1,), padding=(8,), dilation=(8,))\n",
       "                (1): Chomp1d()\n",
       "                (2): LeakyReLU(negative_slope=0.01)\n",
       "                (3): Conv1d(10, 10, kernel_size=(2,), stride=(1,), padding=(8,), dilation=(8,))\n",
       "                (4): Chomp1d()\n",
       "                (5): LeakyReLU(negative_slope=0.01)\n",
       "              )\n",
       "            )\n",
       "            (4): TCNBlock(\n",
       "              (tcn): Sequential(\n",
       "                (0): Conv1d(10, 10, kernel_size=(2,), stride=(1,), padding=(16,), dilation=(16,))\n",
       "                (1): Chomp1d()\n",
       "                (2): LeakyReLU(negative_slope=0.01)\n",
       "                (3): Conv1d(10, 10, kernel_size=(2,), stride=(1,), padding=(16,), dilation=(16,))\n",
       "                (4): Chomp1d()\n",
       "                (5): LeakyReLU(negative_slope=0.01)\n",
       "              )\n",
       "            )\n",
       "          )\n",
       "        )\n",
       "      )\n",
       "    )\n",
       "    (2): Transpose()\n",
       "    (3): Linear(in_features=10, out_features=4, bias=True)\n",
       "    (4): Transpose()\n",
       "  )\n",
       ")"
      ]
     },
     "execution_count": 3,
     "metadata": {},
     "output_type": "execute_result"
    }
   ],
   "source": [
    "model = AutoEncoderTCN()\n",
    "model"
   ]
  },
  {
   "cell_type": "code",
   "execution_count": 4,
   "metadata": {
    "scrolled": true
   },
   "outputs": [
    {
     "data": {
      "text/plain": [
       "tensor([[[-0.3130, -0.3578, -0.7423, -0.8806, -0.3607, -0.2936, -0.5474,\n",
       "           0.1537, -0.8583, -0.5082, -0.6662, -0.0858, -0.8550, -0.2110,\n",
       "          -0.4032, -0.4400, -0.4336, -0.0521, -0.5036, -0.1672, -0.1428,\n",
       "          -0.8485, -0.8464, -0.7903],\n",
       "         [ 0.1081,  0.1183,  0.0728,  0.2008,  0.3055,  0.2358,  0.0731,\n",
       "           0.1708,  0.0210,  0.1992,  0.2137,  0.3912,  0.0595,  0.2823,\n",
       "           0.1375,  0.0927,  0.1827,  0.2661,  0.0262,  0.0551,  0.1415,\n",
       "           0.0332,  0.1571,  0.3562],\n",
       "         [-0.2441, -0.1981, -0.0371,  0.0706, -0.2684, -0.3085, -0.1168,\n",
       "          -0.5435,  0.0072, -0.1271, -0.1725, -0.4377, -0.0124, -0.2705,\n",
       "          -0.2401, -0.2981, -0.1781, -0.4050, -0.1585, -0.3708, -0.3607,\n",
       "           0.0165,  0.0315, -0.1553],\n",
       "         [ 0.2451,  0.3551,  0.7569,  1.0154,  0.3412,  0.2464,  0.5768,\n",
       "          -0.4039,  0.8433,  0.6498,  0.5396, -0.0327,  0.8621,  0.0906,\n",
       "           0.3351,  0.1983,  0.2815, -0.0903,  0.3265, -0.0238,  0.1950,\n",
       "           0.9076,  1.0390,  0.6989]],\n",
       "\n",
       "        [[-0.3116, -0.3597, -0.7460, -0.8921, -0.3659, -0.3015, -0.5519,\n",
       "           0.1648, -0.8638, -0.5193, -0.6640, -0.0889, -0.8597, -0.2084,\n",
       "          -0.4068, -0.4317, -0.4239, -0.0504, -0.4972, -0.1628, -0.1500,\n",
       "          -0.8564, -0.8545, -0.7941],\n",
       "         [ 0.1082,  0.1178,  0.0736,  0.2014,  0.3083,  0.2388,  0.0767,\n",
       "           0.1782,  0.0197,  0.1961,  0.2172,  0.3910,  0.0603,  0.2846,\n",
       "           0.1366,  0.0932,  0.1800,  0.2620,  0.0216,  0.0516,  0.1379,\n",
       "           0.0320,  0.1581,  0.3585],\n",
       "         [-0.2447, -0.1974, -0.0354,  0.0742, -0.2685, -0.3068, -0.1125,\n",
       "          -0.5473,  0.0077, -0.1196, -0.1713, -0.4407, -0.0108, -0.2686,\n",
       "          -0.2401, -0.3013, -0.1825, -0.4077, -0.1621, -0.3768, -0.3590,\n",
       "           0.0184,  0.0358, -0.1578],\n",
       "         [ 0.2422,  0.3593,  0.7638,  1.0352,  0.3472,  0.2566,  0.5892,\n",
       "          -0.4230,  0.8525,  0.6681,  0.5321, -0.0303,  0.8706,  0.0885,\n",
       "           0.3399,  0.1812,  0.2624, -0.0996,  0.3130, -0.0376,  0.2012,\n",
       "           0.9206,  1.0521,  0.7015]]], grad_fn=<TransposeBackward0>)"
      ]
     },
     "execution_count": 4,
     "metadata": {},
     "output_type": "execute_result"
    }
   ],
   "source": [
    "output = model(x)\n",
    "output"
   ]
  },
  {
   "cell_type": "code",
   "execution_count": 5,
   "metadata": {},
   "outputs": [
    {
     "data": {
      "text/plain": [
       "torch.Size([2, 4, 24])"
      ]
     },
     "execution_count": 5,
     "metadata": {},
     "output_type": "execute_result"
    }
   ],
   "source": [
    "output.shape"
   ]
  },
  {
   "cell_type": "code",
   "execution_count": 9,
   "metadata": {
    "scrolled": true
   },
   "outputs": [
    {
     "data": {
      "text/plain": [
       "Sequential(\n",
       "  (0): TCNEncoder(\n",
       "    (encoder): Sequential(\n",
       "      (0): DilationTCN(\n",
       "        (network): Sequential(\n",
       "          (0): TCNBlock(\n",
       "            (tcn): Sequential(\n",
       "              (0): Conv1d(4, 10, kernel_size=(2,), stride=(1,), padding=(1,))\n",
       "              (1): Chomp1d()\n",
       "              (2): LeakyReLU(negative_slope=0.01)\n",
       "              (3): Conv1d(10, 10, kernel_size=(2,), stride=(1,), padding=(1,))\n",
       "              (4): Chomp1d()\n",
       "              (5): LeakyReLU(negative_slope=0.01)\n",
       "            )\n",
       "            (up_down_sampling): Conv1d(4, 10, kernel_size=(1,), stride=(1,))\n",
       "            (relu): LeakyReLU(negative_slope=0.01)\n",
       "          )\n",
       "          (1): TCNBlock(\n",
       "            (tcn): Sequential(\n",
       "              (0): Conv1d(10, 10, kernel_size=(2,), stride=(1,), padding=(2,), dilation=(2,))\n",
       "              (1): Chomp1d()\n",
       "              (2): LeakyReLU(negative_slope=0.01)\n",
       "              (3): Conv1d(10, 10, kernel_size=(2,), stride=(1,), padding=(2,), dilation=(2,))\n",
       "              (4): Chomp1d()\n",
       "              (5): LeakyReLU(negative_slope=0.01)\n",
       "            )\n",
       "            (relu): LeakyReLU(negative_slope=0.01)\n",
       "          )\n",
       "          (2): TCNBlock(\n",
       "            (tcn): Sequential(\n",
       "              (0): Conv1d(10, 10, kernel_size=(2,), stride=(1,), padding=(4,), dilation=(4,))\n",
       "              (1): Chomp1d()\n",
       "              (2): LeakyReLU(negative_slope=0.01)\n",
       "              (3): Conv1d(10, 10, kernel_size=(2,), stride=(1,), padding=(4,), dilation=(4,))\n",
       "              (4): Chomp1d()\n",
       "              (5): LeakyReLU(negative_slope=0.01)\n",
       "            )\n",
       "            (relu): LeakyReLU(negative_slope=0.01)\n",
       "          )\n",
       "          (3): TCNBlock(\n",
       "            (tcn): Sequential(\n",
       "              (0): Conv1d(10, 10, kernel_size=(2,), stride=(1,), padding=(8,), dilation=(8,))\n",
       "              (1): Chomp1d()\n",
       "              (2): LeakyReLU(negative_slope=0.01)\n",
       "              (3): Conv1d(10, 10, kernel_size=(2,), stride=(1,), padding=(8,), dilation=(8,))\n",
       "              (4): Chomp1d()\n",
       "              (5): LeakyReLU(negative_slope=0.01)\n",
       "            )\n",
       "            (relu): LeakyReLU(negative_slope=0.01)\n",
       "          )\n",
       "          (4): TCNBlock(\n",
       "            (tcn): Sequential(\n",
       "              (0): Conv1d(10, 10, kernel_size=(2,), stride=(1,), padding=(16,), dilation=(16,))\n",
       "              (1): Chomp1d()\n",
       "              (2): LeakyReLU(negative_slope=0.01)\n",
       "              (3): Conv1d(10, 10, kernel_size=(2,), stride=(1,), padding=(16,), dilation=(16,))\n",
       "              (4): Chomp1d()\n",
       "              (5): LeakyReLU(negative_slope=0.01)\n",
       "            )\n",
       "            (relu): LeakyReLU(negative_slope=0.01)\n",
       "          )\n",
       "        )\n",
       "      )\n",
       "      (1): AdaptiveMaxPool1d(output_size=1)\n",
       "      (2): Transpose()\n",
       "      (3): Linear(in_features=10, out_features=5, bias=True)\n",
       "    )\n",
       "  )\n",
       ")"
      ]
     },
     "execution_count": 9,
     "metadata": {},
     "output_type": "execute_result"
    }
   ],
   "source": [
    "layers = list(model.ae_tcn.children())\n",
    "encoder = nn.Sequential(*layers[:-1]) \n",
    "encoder"
   ]
  },
  {
   "cell_type": "code",
   "execution_count": 14,
   "metadata": {},
   "outputs": [
    {
     "data": {
      "text/plain": [
       "torch.Size([2, 1, 5])"
      ]
     },
     "execution_count": 14,
     "metadata": {},
     "output_type": "execute_result"
    }
   ],
   "source": [
    "encoder(x).shape"
   ]
  },
  {
   "cell_type": "code",
   "execution_count": 4,
   "metadata": {},
   "outputs": [],
   "source": [
    "import json\n",
    "t = {'ss':'gg'}\n",
    "with open('test.txt', 'w') as f:\n",
    "    json.dump(t, f)"
   ]
  },
  {
   "cell_type": "code",
   "execution_count": 7,
   "metadata": {},
   "outputs": [
    {
     "data": {
      "text/plain": [
       "array([[0.0662918 , 0.21491427, 0.24592332, 0.83223128, 0.55519726,\n",
       "        0.92635879],\n",
       "       [0.30298795, 0.74151675, 0.11780557, 0.88411639, 0.92238706,\n",
       "        0.11445098],\n",
       "       [0.95803676, 0.0744373 , 0.73087636, 0.6552559 , 0.27092587,\n",
       "        0.55949527],\n",
       "       [0.64071354, 0.74512438, 0.74691057, 0.71991843, 0.49381706,\n",
       "        0.64234496]])"
      ]
     },
     "execution_count": 7,
     "metadata": {},
     "output_type": "execute_result"
    }
   ],
   "source": [
    "import numpy as np\n",
    "p = np.random.rand(4, 6)\n",
    "p"
   ]
  },
  {
   "cell_type": "code",
   "execution_count": 11,
   "metadata": {},
   "outputs": [
    {
     "data": {
      "text/plain": [
       "array([[[0.0662918 , 0.21491427, 0.24592332, 0.83223128],\n",
       "        [0.55519726, 0.92635879, 0.30298795, 0.74151675],\n",
       "        [0.11780557, 0.88411639, 0.92238706, 0.11445098]],\n",
       "\n",
       "       [[0.95803676, 0.0744373 , 0.73087636, 0.6552559 ],\n",
       "        [0.27092587, 0.55949527, 0.64071354, 0.74512438],\n",
       "        [0.74691057, 0.71991843, 0.49381706, 0.64234496]]])"
      ]
     },
     "execution_count": 11,
     "metadata": {},
     "output_type": "execute_result"
    }
   ],
   "source": [
    "p.reshape((2, 3, 4))\n"
   ]
  },
  {
   "cell_type": "code",
   "execution_count": 21,
   "metadata": {},
   "outputs": [
    {
     "ename": "TypeError",
     "evalue": "object() takes no parameters",
     "output_type": "error",
     "traceback": [
      "\u001b[1;31m---------------------------------------------------------------------------\u001b[0m",
      "\u001b[1;31mTypeError\u001b[0m                                 Traceback (most recent call last)",
      "\u001b[1;32m<ipython-input-21-1fc1be0743f4>\u001b[0m in \u001b[0;36m<module>\u001b[1;34m\u001b[0m\n\u001b[1;32m----> 1\u001b[1;33m \u001b[0mtorch\u001b[0m\u001b[1;33m.\u001b[0m\u001b[0mutils\u001b[0m\u001b[1;33m.\u001b[0m\u001b[0mdata\u001b[0m\u001b[1;33m.\u001b[0m\u001b[0mDataset\u001b[0m\u001b[1;33m(\u001b[0m\u001b[0mx\u001b[0m\u001b[1;33m)\u001b[0m\u001b[1;33m\u001b[0m\u001b[1;33m\u001b[0m\u001b[0m\n\u001b[0m",
      "\u001b[1;31mTypeError\u001b[0m: object() takes no parameters"
     ]
    }
   ],
   "source": [
    "torch.utils.data.Dataset(x)"
   ]
  },
  {
   "cell_type": "code",
   "execution_count": null,
   "metadata": {},
   "outputs": [],
   "source": []
  }
 ],
 "metadata": {
  "kernelspec": {
   "display_name": "Python 3",
   "language": "python",
   "name": "python3"
  },
  "language_info": {
   "codemirror_mode": {
    "name": "ipython",
    "version": 3
   },
   "file_extension": ".py",
   "mimetype": "text/x-python",
   "name": "python",
   "nbconvert_exporter": "python",
   "pygments_lexer": "ipython3",
   "version": "3.6.8"
  }
 },
 "nbformat": 4,
 "nbformat_minor": 2
}
