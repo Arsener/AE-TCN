{
 "cells": [
  {
   "cell_type": "code",
   "execution_count": 1,
   "metadata": {},
   "outputs": [],
   "source": [
    "import torch\n",
    "import torch.nn as nn\n",
    "from ae_lstm import *"
   ]
  },
  {
   "cell_type": "code",
   "execution_count": 2,
   "metadata": {
    "scrolled": true
   },
   "outputs": [
    {
     "data": {
      "text/plain": [
       "torch.Size([3, 24, 4])"
      ]
     },
     "execution_count": 2,
     "metadata": {},
     "output_type": "execute_result"
    }
   ],
   "source": [
    "x = torch.rand(3, 4, 24)\n",
    "x = x.transpose(1, 2)\n",
    "x.shape"
   ]
  },
  {
   "cell_type": "code",
   "execution_count": 3,
   "metadata": {},
   "outputs": [
    {
     "data": {
      "text/plain": [
       "AutoEncoderLSTM(\n",
       "  (encoder): Encoder(\n",
       "    (lstm): LSTM(4, 10, batch_first=True)\n",
       "  )\n",
       "  (decoder): Decoder(\n",
       "    (lstm): LSTM(10, 10, batch_first=True)\n",
       "  )\n",
       "  (linear): Linear(in_features=10, out_features=4, bias=True)\n",
       ")"
      ]
     },
     "execution_count": 3,
     "metadata": {},
     "output_type": "execute_result"
    }
   ],
   "source": [
    "model = AutoEncoderLSTM(10, 4)\n",
    "model"
   ]
  },
  {
   "cell_type": "code",
   "execution_count": 4,
   "metadata": {
    "scrolled": true
   },
   "outputs": [
    {
     "name": "stdout",
     "output_type": "stream",
     "text": [
      "torch.Size([3, 24, 10])\n",
      "torch.Size([3, 1, 10])\n"
     ]
    },
    {
     "data": {
      "text/plain": [
       "tensor([[[-0.0288,  0.2544,  0.3381, -0.1239],\n",
       "         [-0.0288,  0.2544,  0.3380, -0.1239],\n",
       "         [-0.0288,  0.2544,  0.3380, -0.1239],\n",
       "         [-0.0288,  0.2544,  0.3380, -0.1239],\n",
       "         [-0.0288,  0.2544,  0.3380, -0.1239],\n",
       "         [-0.0288,  0.2544,  0.3380, -0.1239],\n",
       "         [-0.0288,  0.2543,  0.3379, -0.1239],\n",
       "         [-0.0288,  0.2543,  0.3378, -0.1239],\n",
       "         [-0.0288,  0.2542,  0.3377, -0.1239],\n",
       "         [-0.0288,  0.2541,  0.3376, -0.1238],\n",
       "         [-0.0288,  0.2540,  0.3374, -0.1238],\n",
       "         [-0.0289,  0.2538,  0.3372, -0.1238],\n",
       "         [-0.0289,  0.2535,  0.3368, -0.1238],\n",
       "         [-0.0290,  0.2531,  0.3362, -0.1238],\n",
       "         [-0.0290,  0.2526,  0.3355, -0.1237],\n",
       "         [-0.0291,  0.2519,  0.3344, -0.1237],\n",
       "         [-0.0293,  0.2509,  0.3328, -0.1237],\n",
       "         [-0.0295,  0.2496,  0.3306, -0.1236],\n",
       "         [-0.0300,  0.2479,  0.3273, -0.1235],\n",
       "         [-0.0309,  0.2457,  0.3227, -0.1232],\n",
       "         [-0.0328,  0.2430,  0.3162, -0.1223],\n",
       "         [-0.0366,  0.2402,  0.3077, -0.1203],\n",
       "         [-0.0438,  0.2381,  0.2981, -0.1163],\n",
       "         [-0.0567,  0.2382,  0.2930, -0.1107]],\n",
       "\n",
       "        [[-0.0288,  0.2544,  0.3381, -0.1239],\n",
       "         [-0.0288,  0.2544,  0.3380, -0.1239],\n",
       "         [-0.0288,  0.2544,  0.3380, -0.1239],\n",
       "         [-0.0288,  0.2544,  0.3380, -0.1239],\n",
       "         [-0.0288,  0.2544,  0.3380, -0.1239],\n",
       "         [-0.0288,  0.2544,  0.3380, -0.1239],\n",
       "         [-0.0288,  0.2543,  0.3379, -0.1239],\n",
       "         [-0.0288,  0.2543,  0.3378, -0.1239],\n",
       "         [-0.0288,  0.2542,  0.3377, -0.1239],\n",
       "         [-0.0288,  0.2541,  0.3376, -0.1238],\n",
       "         [-0.0288,  0.2540,  0.3374, -0.1238],\n",
       "         [-0.0289,  0.2538,  0.3371, -0.1238],\n",
       "         [-0.0289,  0.2535,  0.3368, -0.1238],\n",
       "         [-0.0290,  0.2531,  0.3362, -0.1238],\n",
       "         [-0.0290,  0.2526,  0.3355, -0.1237],\n",
       "         [-0.0291,  0.2519,  0.3344, -0.1237],\n",
       "         [-0.0293,  0.2509,  0.3328, -0.1236],\n",
       "         [-0.0296,  0.2496,  0.3306, -0.1235],\n",
       "         [-0.0301,  0.2479,  0.3273, -0.1233],\n",
       "         [-0.0311,  0.2458,  0.3228, -0.1228],\n",
       "         [-0.0331,  0.2433,  0.3164, -0.1217],\n",
       "         [-0.0369,  0.2406,  0.3081, -0.1192],\n",
       "         [-0.0443,  0.2386,  0.2991, -0.1144],\n",
       "         [-0.0573,  0.2386,  0.2950, -0.1076]],\n",
       "\n",
       "        [[-0.0288,  0.2544,  0.3381, -0.1239],\n",
       "         [-0.0288,  0.2544,  0.3380, -0.1239],\n",
       "         [-0.0288,  0.2544,  0.3380, -0.1239],\n",
       "         [-0.0288,  0.2544,  0.3380, -0.1239],\n",
       "         [-0.0288,  0.2544,  0.3380, -0.1239],\n",
       "         [-0.0288,  0.2544,  0.3380, -0.1239],\n",
       "         [-0.0288,  0.2543,  0.3379, -0.1239],\n",
       "         [-0.0288,  0.2543,  0.3378, -0.1239],\n",
       "         [-0.0288,  0.2542,  0.3377, -0.1239],\n",
       "         [-0.0288,  0.2541,  0.3376, -0.1238],\n",
       "         [-0.0289,  0.2540,  0.3374, -0.1238],\n",
       "         [-0.0289,  0.2538,  0.3372, -0.1238],\n",
       "         [-0.0289,  0.2535,  0.3368, -0.1238],\n",
       "         [-0.0290,  0.2532,  0.3362, -0.1238],\n",
       "         [-0.0291,  0.2527,  0.3355, -0.1237],\n",
       "         [-0.0292,  0.2520,  0.3344, -0.1237],\n",
       "         [-0.0294,  0.2511,  0.3329, -0.1236],\n",
       "         [-0.0297,  0.2498,  0.3306, -0.1235],\n",
       "         [-0.0303,  0.2482,  0.3275, -0.1233],\n",
       "         [-0.0313,  0.2462,  0.3229, -0.1227],\n",
       "         [-0.0333,  0.2438,  0.3165, -0.1214],\n",
       "         [-0.0372,  0.2412,  0.3081, -0.1186],\n",
       "         [-0.0446,  0.2390,  0.2987, -0.1132],\n",
       "         [-0.0572,  0.2382,  0.2939, -0.1055]]], grad_fn=<AddBackward0>)"
      ]
     },
     "execution_count": 4,
     "metadata": {},
     "output_type": "execute_result"
    }
   ],
   "source": [
    "output = model(x)\n",
    "output"
   ]
  },
  {
   "cell_type": "code",
   "execution_count": 5,
   "metadata": {},
   "outputs": [
    {
     "data": {
      "text/plain": [
       "torch.Size([3, 24, 4])"
      ]
     },
     "execution_count": 5,
     "metadata": {},
     "output_type": "execute_result"
    }
   ],
   "source": [
    "output.shape"
   ]
  },
  {
   "cell_type": "code",
   "execution_count": 6,
   "metadata": {
    "scrolled": true
   },
   "outputs": [
    {
     "data": {
      "text/plain": [
       "Sequential(\n",
       "  (0): Encoder(\n",
       "    (lstm): LSTM(4, 10, batch_first=True)\n",
       "  )\n",
       ")"
      ]
     },
     "execution_count": 6,
     "metadata": {},
     "output_type": "execute_result"
    }
   ],
   "source": [
    "layers = list(model.children())\n",
    "encoder = nn.Sequential(layers[0]) \n",
    "encoder"
   ]
  },
  {
   "cell_type": "code",
   "execution_count": 13,
   "metadata": {},
   "outputs": [
    {
     "data": {
      "text/plain": [
       "torch.Size([3, 10])"
      ]
     },
     "execution_count": 13,
     "metadata": {},
     "output_type": "execute_result"
    }
   ],
   "source": [
    "encoder(x).squeeze(0).shape"
   ]
  },
  {
   "cell_type": "code",
   "execution_count": 8,
   "metadata": {},
   "outputs": [],
   "source": [
    "import json\n",
    "t = {'ss':'gg'}\n",
    "with open('test.txt', 'w') as f:\n",
    "    json.dump(t, f)"
   ]
  },
  {
   "cell_type": "code",
   "execution_count": 9,
   "metadata": {},
   "outputs": [
    {
     "data": {
      "text/plain": [
       "array([[0.70049838, 0.15116283, 0.53720804, 0.58765814, 0.07152135,\n",
       "        0.55210337],\n",
       "       [0.88633974, 0.87347717, 0.71500646, 0.50297395, 0.60584101,\n",
       "        0.92290444],\n",
       "       [0.85619012, 0.84202522, 0.48023314, 0.1087635 , 0.39778133,\n",
       "        0.70395983],\n",
       "       [0.00762988, 0.13266029, 0.37945514, 0.11621597, 0.40571925,\n",
       "        0.01548308]])"
      ]
     },
     "execution_count": 9,
     "metadata": {},
     "output_type": "execute_result"
    }
   ],
   "source": [
    "import numpy as np\n",
    "p = np.random.rand(4, 6)\n",
    "p"
   ]
  },
  {
   "cell_type": "code",
   "execution_count": 10,
   "metadata": {},
   "outputs": [
    {
     "data": {
      "text/plain": [
       "array([[[0.70049838, 0.15116283, 0.53720804, 0.58765814],\n",
       "        [0.07152135, 0.55210337, 0.88633974, 0.87347717],\n",
       "        [0.71500646, 0.50297395, 0.60584101, 0.92290444]],\n",
       "\n",
       "       [[0.85619012, 0.84202522, 0.48023314, 0.1087635 ],\n",
       "        [0.39778133, 0.70395983, 0.00762988, 0.13266029],\n",
       "        [0.37945514, 0.11621597, 0.40571925, 0.01548308]]])"
      ]
     },
     "execution_count": 10,
     "metadata": {},
     "output_type": "execute_result"
    }
   ],
   "source": [
    "p.reshape((2, 3, 4))\n"
   ]
  },
  {
   "cell_type": "code",
   "execution_count": 11,
   "metadata": {},
   "outputs": [
    {
     "ename": "TypeError",
     "evalue": "object() takes no parameters",
     "output_type": "error",
     "traceback": [
      "\u001b[1;31m---------------------------------------------------------------------------\u001b[0m",
      "\u001b[1;31mTypeError\u001b[0m                                 Traceback (most recent call last)",
      "\u001b[1;32m<ipython-input-11-1fc1be0743f4>\u001b[0m in \u001b[0;36m<module>\u001b[1;34m\u001b[0m\n\u001b[1;32m----> 1\u001b[1;33m \u001b[0mtorch\u001b[0m\u001b[1;33m.\u001b[0m\u001b[0mutils\u001b[0m\u001b[1;33m.\u001b[0m\u001b[0mdata\u001b[0m\u001b[1;33m.\u001b[0m\u001b[0mDataset\u001b[0m\u001b[1;33m(\u001b[0m\u001b[0mx\u001b[0m\u001b[1;33m)\u001b[0m\u001b[1;33m\u001b[0m\u001b[1;33m\u001b[0m\u001b[0m\n\u001b[0m",
      "\u001b[1;31mTypeError\u001b[0m: object() takes no parameters"
     ]
    }
   ],
   "source": [
    "torch.utils.data.Dataset(x)"
   ]
  },
  {
   "cell_type": "code",
   "execution_count": null,
   "metadata": {},
   "outputs": [],
   "source": []
  }
 ],
 "metadata": {
  "kernelspec": {
   "display_name": "Python 3",
   "language": "python",
   "name": "python3"
  },
  "language_info": {
   "codemirror_mode": {
    "name": "ipython",
    "version": 3
   },
   "file_extension": ".py",
   "mimetype": "text/x-python",
   "name": "python",
   "nbconvert_exporter": "python",
   "pygments_lexer": "ipython3",
   "version": "3.6.8"
  }
 },
 "nbformat": 4,
 "nbformat_minor": 2
}
