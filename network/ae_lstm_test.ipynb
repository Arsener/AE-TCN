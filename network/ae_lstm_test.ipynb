{
 "cells": [
  {
   "cell_type": "code",
   "execution_count": 1,
   "metadata": {},
   "outputs": [],
   "source": [
    "import torch\n",
    "import torch.nn as nn\n",
    "from ae_lstm import *"
   ]
  },
  {
   "cell_type": "code",
   "execution_count": 2,
   "metadata": {
    "scrolled": true
   },
   "outputs": [
    {
     "data": {
      "text/plain": [
       "torch.Size([3, 24, 4])"
      ]
     },
     "execution_count": 2,
     "metadata": {},
     "output_type": "execute_result"
    }
   ],
   "source": [
    "x = torch.rand(3, 4, 24)\n",
    "x = x.transpose(1, 2)\n",
    "x.shape"
   ]
  },
  {
   "cell_type": "code",
   "execution_count": 3,
   "metadata": {},
   "outputs": [
    {
     "data": {
      "text/plain": [
       "AutoEncoderLSTM_expo(\n",
       "  (encoder): Encoder(\n",
       "    (lstm): LSTM(4, 10, batch_first=True)\n",
       "  )\n",
       "  (decoder): Decoder(\n",
       "    (lstm): LSTM(10, 10, batch_first=True)\n",
       "  )\n",
       "  (linear): Linear(in_features=10, out_features=4, bias=True)\n",
       ")"
      ]
     },
     "execution_count": 3,
     "metadata": {},
     "output_type": "execute_result"
    }
   ],
   "source": [
    "model = AutoEncoderLSTM_expo(10, 4)\n",
    "model"
   ]
  },
  {
   "cell_type": "code",
   "execution_count": 4,
   "metadata": {
    "scrolled": true
   },
   "outputs": [
    {
     "data": {
      "text/plain": [
       "tensor([[[-0.2081, -0.3142,  0.3010,  0.2235],\n",
       "         [-0.2149, -0.3203,  0.3147,  0.2032],\n",
       "         [-0.2227, -0.3202,  0.3208,  0.1927],\n",
       "         [-0.2292, -0.3181,  0.3234,  0.1871],\n",
       "         [-0.2340, -0.3159,  0.3244,  0.1841],\n",
       "         [-0.2375, -0.3141,  0.3248,  0.1824],\n",
       "         [-0.2399, -0.3126,  0.3249,  0.1813],\n",
       "         [-0.2416, -0.3115,  0.3249,  0.1807],\n",
       "         [-0.2428, -0.3107,  0.3249,  0.1803],\n",
       "         [-0.2436, -0.3102,  0.3249,  0.1800],\n",
       "         [-0.2442, -0.3098,  0.3249,  0.1799],\n",
       "         [-0.2446, -0.3096,  0.3249,  0.1797],\n",
       "         [-0.2449, -0.3094,  0.3250,  0.1797],\n",
       "         [-0.2451, -0.3092,  0.3250,  0.1796],\n",
       "         [-0.2452, -0.3092,  0.3250,  0.1796],\n",
       "         [-0.2453, -0.3091,  0.3250,  0.1795],\n",
       "         [-0.2454, -0.3091,  0.3250,  0.1795],\n",
       "         [-0.2454, -0.3090,  0.3250,  0.1795],\n",
       "         [-0.2455, -0.3090,  0.3250,  0.1795],\n",
       "         [-0.2455, -0.3090,  0.3250,  0.1795],\n",
       "         [-0.2455, -0.3090,  0.3250,  0.1795],\n",
       "         [-0.2455, -0.3090,  0.3250,  0.1795],\n",
       "         [-0.2455, -0.3090,  0.3250,  0.1795],\n",
       "         [-0.2455, -0.3090,  0.3250,  0.1795]],\n",
       "\n",
       "        [[-0.2051, -0.3182,  0.3011,  0.2236],\n",
       "         [-0.2104, -0.3262,  0.3152,  0.2025],\n",
       "         [-0.2176, -0.3269,  0.3216,  0.1912],\n",
       "         [-0.2239, -0.3253,  0.3244,  0.1852],\n",
       "         [-0.2286, -0.3233,  0.3255,  0.1819],\n",
       "         [-0.2320, -0.3215,  0.3260,  0.1800],\n",
       "         [-0.2345, -0.3201,  0.3261,  0.1789],\n",
       "         [-0.2362, -0.3190,  0.3262,  0.1783],\n",
       "         [-0.2374, -0.3182,  0.3262,  0.1779],\n",
       "         [-0.2382, -0.3177,  0.3262,  0.1776],\n",
       "         [-0.2388, -0.3173,  0.3263,  0.1774],\n",
       "         [-0.2392, -0.3171,  0.3263,  0.1773],\n",
       "         [-0.2395, -0.3169,  0.3263,  0.1773],\n",
       "         [-0.2397, -0.3168,  0.3263,  0.1772],\n",
       "         [-0.2399, -0.3167,  0.3263,  0.1772],\n",
       "         [-0.2399, -0.3166,  0.3263,  0.1772],\n",
       "         [-0.2400, -0.3166,  0.3263,  0.1771],\n",
       "         [-0.2400, -0.3166,  0.3263,  0.1771],\n",
       "         [-0.2401, -0.3165,  0.3263,  0.1771],\n",
       "         [-0.2401, -0.3165,  0.3263,  0.1771],\n",
       "         [-0.2401, -0.3165,  0.3263,  0.1771],\n",
       "         [-0.2401, -0.3165,  0.3263,  0.1771],\n",
       "         [-0.2401, -0.3165,  0.3263,  0.1771],\n",
       "         [-0.2401, -0.3165,  0.3263,  0.1771]],\n",
       "\n",
       "        [[-0.2017, -0.3218,  0.3015,  0.2233],\n",
       "         [-0.2050, -0.3318,  0.3160,  0.2022],\n",
       "         [-0.2111, -0.3336,  0.3225,  0.1910],\n",
       "         [-0.2166, -0.3326,  0.3254,  0.1851],\n",
       "         [-0.2210, -0.3309,  0.3265,  0.1819],\n",
       "         [-0.2241, -0.3293,  0.3270,  0.1801],\n",
       "         [-0.2264, -0.3280,  0.3271,  0.1791],\n",
       "         [-0.2280, -0.3270,  0.3272,  0.1785],\n",
       "         [-0.2292, -0.3263,  0.3272,  0.1782],\n",
       "         [-0.2300, -0.3258,  0.3272,  0.1779],\n",
       "         [-0.2305, -0.3255,  0.3273,  0.1778],\n",
       "         [-0.2309, -0.3252,  0.3273,  0.1777],\n",
       "         [-0.2312, -0.3251,  0.3273,  0.1776],\n",
       "         [-0.2314, -0.3249,  0.3273,  0.1776],\n",
       "         [-0.2315, -0.3249,  0.3273,  0.1776],\n",
       "         [-0.2316, -0.3248,  0.3273,  0.1776],\n",
       "         [-0.2316, -0.3248,  0.3273,  0.1775],\n",
       "         [-0.2317, -0.3248,  0.3273,  0.1775],\n",
       "         [-0.2317, -0.3247,  0.3273,  0.1775],\n",
       "         [-0.2317, -0.3247,  0.3273,  0.1775],\n",
       "         [-0.2317, -0.3247,  0.3273,  0.1775],\n",
       "         [-0.2317, -0.3247,  0.3273,  0.1775],\n",
       "         [-0.2317, -0.3247,  0.3273,  0.1775],\n",
       "         [-0.2317, -0.3247,  0.3273,  0.1775]]], grad_fn=<AddBackward0>)"
      ]
     },
     "execution_count": 4,
     "metadata": {},
     "output_type": "execute_result"
    }
   ],
   "source": [
    "output = model(x)\n",
    "output"
   ]
  },
  {
   "cell_type": "code",
   "execution_count": 5,
   "metadata": {},
   "outputs": [
    {
     "data": {
      "text/plain": [
       "torch.Size([3, 24, 4])"
      ]
     },
     "execution_count": 5,
     "metadata": {},
     "output_type": "execute_result"
    }
   ],
   "source": [
    "output.shape"
   ]
  },
  {
   "cell_type": "code",
   "execution_count": 6,
   "metadata": {
    "scrolled": true
   },
   "outputs": [
    {
     "data": {
      "text/plain": [
       "Sequential(\n",
       "  (0): Encoder(\n",
       "    (lstm): LSTM(4, 10, batch_first=True)\n",
       "  )\n",
       ")"
      ]
     },
     "execution_count": 6,
     "metadata": {},
     "output_type": "execute_result"
    }
   ],
   "source": [
    "layers = list(model.children())\n",
    "encoder = nn.Sequential(layers[0]) \n",
    "encoder"
   ]
  },
  {
   "cell_type": "code",
   "execution_count": 7,
   "metadata": {},
   "outputs": [
    {
     "data": {
      "text/plain": [
       "torch.Size([3, 10])"
      ]
     },
     "execution_count": 7,
     "metadata": {},
     "output_type": "execute_result"
    }
   ],
   "source": [
    "encoder(x).squeeze(0).shape"
   ]
  },
  {
   "cell_type": "code",
   "execution_count": 8,
   "metadata": {},
   "outputs": [],
   "source": [
    "import json\n",
    "t = {'ss':'gg'}\n",
    "with open('test.txt', 'w') as f:\n",
    "    json.dump(t, f)"
   ]
  },
  {
   "cell_type": "code",
   "execution_count": 9,
   "metadata": {},
   "outputs": [
    {
     "data": {
      "text/plain": [
       "array([[0.22627803, 0.81023407, 0.50449919, 0.26938748, 0.0544748 ,\n",
       "        0.26059659],\n",
       "       [0.54880029, 0.14439089, 0.01130292, 0.4615891 , 0.72587865,\n",
       "        0.22624136],\n",
       "       [0.68845251, 0.10216888, 0.99285929, 0.57046318, 0.17137779,\n",
       "        0.91079214],\n",
       "       [0.14069701, 0.87556724, 0.17181154, 0.21009784, 0.71492542,\n",
       "        0.75390937]])"
      ]
     },
     "execution_count": 9,
     "metadata": {},
     "output_type": "execute_result"
    }
   ],
   "source": [
    "import numpy as np\n",
    "p = np.random.rand(4, 6)\n",
    "p"
   ]
  },
  {
   "cell_type": "code",
   "execution_count": 10,
   "metadata": {},
   "outputs": [
    {
     "data": {
      "text/plain": [
       "array([[[0.22627803, 0.81023407, 0.50449919, 0.26938748],\n",
       "        [0.0544748 , 0.26059659, 0.54880029, 0.14439089],\n",
       "        [0.01130292, 0.4615891 , 0.72587865, 0.22624136]],\n",
       "\n",
       "       [[0.68845251, 0.10216888, 0.99285929, 0.57046318],\n",
       "        [0.17137779, 0.91079214, 0.14069701, 0.87556724],\n",
       "        [0.17181154, 0.21009784, 0.71492542, 0.75390937]]])"
      ]
     },
     "execution_count": 10,
     "metadata": {},
     "output_type": "execute_result"
    }
   ],
   "source": [
    "p.reshape((2, 3, 4))\n"
   ]
  },
  {
   "cell_type": "code",
   "execution_count": 11,
   "metadata": {},
   "outputs": [
    {
     "ename": "TypeError",
     "evalue": "object() takes no parameters",
     "output_type": "error",
     "traceback": [
      "\u001b[1;31m---------------------------------------------------------------------------\u001b[0m",
      "\u001b[1;31mTypeError\u001b[0m                                 Traceback (most recent call last)",
      "\u001b[1;32m<ipython-input-11-1fc1be0743f4>\u001b[0m in \u001b[0;36m<module>\u001b[1;34m\u001b[0m\n\u001b[1;32m----> 1\u001b[1;33m \u001b[0mtorch\u001b[0m\u001b[1;33m.\u001b[0m\u001b[0mutils\u001b[0m\u001b[1;33m.\u001b[0m\u001b[0mdata\u001b[0m\u001b[1;33m.\u001b[0m\u001b[0mDataset\u001b[0m\u001b[1;33m(\u001b[0m\u001b[0mx\u001b[0m\u001b[1;33m)\u001b[0m\u001b[1;33m\u001b[0m\u001b[1;33m\u001b[0m\u001b[0m\n\u001b[0m",
      "\u001b[1;31mTypeError\u001b[0m: object() takes no parameters"
     ]
    }
   ],
   "source": [
    "torch.utils.data.Dataset(x)"
   ]
  },
  {
   "cell_type": "code",
   "execution_count": null,
   "metadata": {},
   "outputs": [],
   "source": []
  }
 ],
 "metadata": {
  "kernelspec": {
   "display_name": "Python 3",
   "language": "python",
   "name": "python3"
  },
  "language_info": {
   "codemirror_mode": {
    "name": "ipython",
    "version": 3
   },
   "file_extension": ".py",
   "mimetype": "text/x-python",
   "name": "python",
   "nbconvert_exporter": "python",
   "pygments_lexer": "ipython3",
   "version": "3.6.8"
  }
 },
 "nbformat": 4,
 "nbformat_minor": 2
}
