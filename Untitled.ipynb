{
 "cells": [
  {
   "cell_type": "code",
   "execution_count": 1,
   "metadata": {},
   "outputs": [],
   "source": [
    "import torch\n",
    "import torch.nn as nn\n",
    "from ae_tcn import *"
   ]
  },
  {
   "cell_type": "code",
   "execution_count": 2,
   "metadata": {},
   "outputs": [
    {
     "data": {
      "text/plain": [
       "tensor([[[0.3880, 0.5125, 0.1045, 0.6090, 0.5908, 0.6801, 0.6655, 0.8603,\n",
       "          0.5134, 0.9920, 0.9909, 0.9506, 0.2108, 0.7274, 0.1907, 0.8782,\n",
       "          0.2004, 0.7996, 0.9049, 0.6260, 0.5632, 0.7484, 0.0301, 0.0556],\n",
       "         [0.3335, 0.0491, 0.0312, 0.5623, 0.2495, 0.3511, 0.1270, 0.3359,\n",
       "          0.4809, 0.1894, 0.4483, 0.6247, 0.9094, 0.3325, 0.1945, 0.7857,\n",
       "          0.2756, 0.3859, 0.9303, 0.6053, 0.0282, 0.7424, 0.2555, 0.2321],\n",
       "         [0.4961, 0.1952, 0.0398, 0.5246, 0.6330, 0.2202, 0.6215, 0.7937,\n",
       "          0.1186, 0.5456, 0.6217, 0.0314, 0.9043, 0.2608, 0.5832, 0.9909,\n",
       "          0.1130, 0.6454, 0.9993, 0.7035, 0.7961, 0.9893, 0.6224, 0.9462],\n",
       "         [0.3482, 0.3259, 0.8750, 0.2682, 0.1352, 0.7558, 0.1015, 0.5474,\n",
       "          0.6345, 0.2570, 0.4742, 0.3362, 0.1166, 0.7115, 0.6651, 0.2158,\n",
       "          0.9444, 0.5648, 0.3337, 0.3556, 0.1802, 0.3108, 0.3095, 0.0699]],\n",
       "\n",
       "        [[0.7275, 0.8946, 0.8094, 0.0658, 0.5093, 0.0259, 0.2574, 0.4151,\n",
       "          0.6303, 0.9083, 0.5288, 0.0410, 0.9322, 0.5825, 0.0576, 0.4407,\n",
       "          0.2801, 0.0510, 0.3583, 0.2310, 0.7025, 0.2069, 0.7009, 0.8015],\n",
       "         [0.4592, 0.5064, 0.8839, 0.4054, 0.1883, 0.1519, 0.1386, 0.8948,\n",
       "          0.9928, 0.2778, 0.9914, 0.5100, 0.6379, 0.1023, 0.6786, 0.8558,\n",
       "          0.1845, 0.8401, 0.2218, 0.8191, 0.0865, 0.4835, 0.8006, 0.3085],\n",
       "         [0.2300, 0.9121, 0.2454, 0.6848, 0.0029, 0.5824, 0.2003, 0.7994,\n",
       "          0.5737, 0.9301, 0.0909, 0.3143, 0.3699, 0.4991, 0.1854, 0.5554,\n",
       "          0.1124, 0.2755, 0.1447, 0.6828, 0.4763, 0.9673, 0.1574, 0.3643],\n",
       "         [0.1397, 0.2701, 0.8811, 0.9486, 0.1157, 0.1211, 0.8417, 0.2413,\n",
       "          0.2524, 0.8796, 0.9826, 0.7507, 0.1958, 0.1157, 0.6939, 0.1057,\n",
       "          0.3089, 0.8424, 0.2099, 0.6009, 0.7432, 0.7733, 0.4606, 0.6037]]])"
      ]
     },
     "execution_count": 2,
     "metadata": {},
     "output_type": "execute_result"
    }
   ],
   "source": [
    "x = torch.rand(2, 4, 24)\n",
    "x"
   ]
  },
  {
   "cell_type": "code",
   "execution_count": 3,
   "metadata": {},
   "outputs": [
    {
     "data": {
      "text/plain": [
       "AutoEncoderTCN(\n",
       "  (ae_tcn): Sequential(\n",
       "    (0): TCNEncoder(\n",
       "      (encoder): Sequential(\n",
       "        (0): DilationTCN(\n",
       "          (network): Sequential(\n",
       "            (0): TCNBlock(\n",
       "              (tcn): Sequential(\n",
       "                (0): Conv1d(4, 10, kernel_size=(2,), stride=(1,), padding=(1,))\n",
       "                (1): Chomp1d()\n",
       "                (2): LeakyReLU(negative_slope=0.01)\n",
       "                (3): Conv1d(10, 10, kernel_size=(2,), stride=(1,), padding=(1,))\n",
       "                (4): Chomp1d()\n",
       "                (5): LeakyReLU(negative_slope=0.01)\n",
       "              )\n",
       "              (up_down_sampling): Conv1d(4, 10, kernel_size=(1,), stride=(1,))\n",
       "            )\n",
       "            (1): TCNBlock(\n",
       "              (tcn): Sequential(\n",
       "                (0): Conv1d(10, 10, kernel_size=(2,), stride=(1,), padding=(2,), dilation=(2,))\n",
       "                (1): Chomp1d()\n",
       "                (2): LeakyReLU(negative_slope=0.01)\n",
       "                (3): Conv1d(10, 10, kernel_size=(2,), stride=(1,), padding=(2,), dilation=(2,))\n",
       "                (4): Chomp1d()\n",
       "                (5): LeakyReLU(negative_slope=0.01)\n",
       "              )\n",
       "            )\n",
       "            (2): TCNBlock(\n",
       "              (tcn): Sequential(\n",
       "                (0): Conv1d(10, 10, kernel_size=(2,), stride=(1,), padding=(4,), dilation=(4,))\n",
       "                (1): Chomp1d()\n",
       "                (2): LeakyReLU(negative_slope=0.01)\n",
       "                (3): Conv1d(10, 10, kernel_size=(2,), stride=(1,), padding=(4,), dilation=(4,))\n",
       "                (4): Chomp1d()\n",
       "                (5): LeakyReLU(negative_slope=0.01)\n",
       "              )\n",
       "            )\n",
       "            (3): TCNBlock(\n",
       "              (tcn): Sequential(\n",
       "                (0): Conv1d(10, 10, kernel_size=(2,), stride=(1,), padding=(8,), dilation=(8,))\n",
       "                (1): Chomp1d()\n",
       "                (2): LeakyReLU(negative_slope=0.01)\n",
       "                (3): Conv1d(10, 10, kernel_size=(2,), stride=(1,), padding=(8,), dilation=(8,))\n",
       "                (4): Chomp1d()\n",
       "                (5): LeakyReLU(negative_slope=0.01)\n",
       "              )\n",
       "            )\n",
       "            (4): TCNBlock(\n",
       "              (tcn): Sequential(\n",
       "                (0): Conv1d(10, 10, kernel_size=(2,), stride=(1,), padding=(16,), dilation=(16,))\n",
       "                (1): Chomp1d()\n",
       "                (2): LeakyReLU(negative_slope=0.01)\n",
       "                (3): Conv1d(10, 10, kernel_size=(2,), stride=(1,), padding=(16,), dilation=(16,))\n",
       "                (4): Chomp1d()\n",
       "                (5): LeakyReLU(negative_slope=0.01)\n",
       "              )\n",
       "            )\n",
       "          )\n",
       "        )\n",
       "        (1): AdaptiveMaxPool1d(output_size=1)\n",
       "        (2): Transpose()\n",
       "        (3): Linear(in_features=10, out_features=5, bias=True)\n",
       "      )\n",
       "    )\n",
       "    (1): TCNDecoder(\n",
       "      (decoder): Sequential(\n",
       "        (0): Transpose()\n",
       "        (1): Linear(in_features=1, out_features=24, bias=True)\n",
       "        (2): DilationTCN(\n",
       "          (network): Sequential(\n",
       "            (0): TCNBlock(\n",
       "              (tcn): Sequential(\n",
       "                (0): Conv1d(5, 10, kernel_size=(2,), stride=(1,), padding=(1,))\n",
       "                (1): Chomp1d()\n",
       "                (2): LeakyReLU(negative_slope=0.01)\n",
       "                (3): Conv1d(10, 10, kernel_size=(2,), stride=(1,), padding=(1,))\n",
       "                (4): Chomp1d()\n",
       "                (5): LeakyReLU(negative_slope=0.01)\n",
       "              )\n",
       "              (up_down_sampling): Conv1d(5, 10, kernel_size=(1,), stride=(1,))\n",
       "            )\n",
       "            (1): TCNBlock(\n",
       "              (tcn): Sequential(\n",
       "                (0): Conv1d(10, 10, kernel_size=(2,), stride=(1,), padding=(2,), dilation=(2,))\n",
       "                (1): Chomp1d()\n",
       "                (2): LeakyReLU(negative_slope=0.01)\n",
       "                (3): Conv1d(10, 10, kernel_size=(2,), stride=(1,), padding=(2,), dilation=(2,))\n",
       "                (4): Chomp1d()\n",
       "                (5): LeakyReLU(negative_slope=0.01)\n",
       "              )\n",
       "            )\n",
       "            (2): TCNBlock(\n",
       "              (tcn): Sequential(\n",
       "                (0): Conv1d(10, 10, kernel_size=(2,), stride=(1,), padding=(4,), dilation=(4,))\n",
       "                (1): Chomp1d()\n",
       "                (2): LeakyReLU(negative_slope=0.01)\n",
       "                (3): Conv1d(10, 10, kernel_size=(2,), stride=(1,), padding=(4,), dilation=(4,))\n",
       "                (4): Chomp1d()\n",
       "                (5): LeakyReLU(negative_slope=0.01)\n",
       "              )\n",
       "            )\n",
       "            (3): TCNBlock(\n",
       "              (tcn): Sequential(\n",
       "                (0): Conv1d(10, 10, kernel_size=(2,), stride=(1,), padding=(8,), dilation=(8,))\n",
       "                (1): Chomp1d()\n",
       "                (2): LeakyReLU(negative_slope=0.01)\n",
       "                (3): Conv1d(10, 10, kernel_size=(2,), stride=(1,), padding=(8,), dilation=(8,))\n",
       "                (4): Chomp1d()\n",
       "                (5): LeakyReLU(negative_slope=0.01)\n",
       "              )\n",
       "            )\n",
       "            (4): TCNBlock(\n",
       "              (tcn): Sequential(\n",
       "                (0): Conv1d(10, 4, kernel_size=(2,), stride=(1,), padding=(16,), dilation=(16,))\n",
       "                (1): Chomp1d()\n",
       "                (2): LeakyReLU(negative_slope=0.01)\n",
       "                (3): Conv1d(4, 4, kernel_size=(2,), stride=(1,), padding=(16,), dilation=(16,))\n",
       "                (4): Chomp1d()\n",
       "                (5): LeakyReLU(negative_slope=0.01)\n",
       "              )\n",
       "              (up_down_sampling): Conv1d(10, 4, kernel_size=(1,), stride=(1,))\n",
       "            )\n",
       "          )\n",
       "        )\n",
       "      )\n",
       "    )\n",
       "  )\n",
       ")"
      ]
     },
     "execution_count": 3,
     "metadata": {},
     "output_type": "execute_result"
    }
   ],
   "source": [
    "model = AutoEncoderTCN(4, 10, 5, 2, 5, 24)\n",
    "model"
   ]
  },
  {
   "cell_type": "code",
   "execution_count": 4,
   "metadata": {
    "scrolled": true
   },
   "outputs": [
    {
     "data": {
      "text/plain": [
       "tensor([[[ 3.5308e-01,  3.7636e-01,  2.7269e-01,  1.2278e-01,  1.7230e-01,\n",
       "           1.4788e-01,  3.1004e-01,  2.2135e-01,  2.3951e-01,  2.2257e-01,\n",
       "           1.2187e-01,  1.2277e-01,  6.0749e-02,  2.0927e-01,  3.0401e-01,\n",
       "           4.2619e-02,  2.6288e-01,  1.2690e-01,  2.8909e-01,  1.5848e-01,\n",
       "           1.4017e-01,  3.3113e-01,  1.6057e-01,  2.1671e-01],\n",
       "         [-5.1711e-01, -1.6859e-01, -1.0767e-01, -1.1814e-01, -8.9015e-02,\n",
       "          -1.3881e-02, -4.2823e-01, -2.3619e-01, -6.2599e-01, -1.2216e-01,\n",
       "          -2.8708e-01, -1.8821e-02, -2.4244e-01, -2.7199e-01,  6.8932e-02,\n",
       "          -9.8486e-02, -3.9588e-01, -2.0104e-01,  1.6783e-01, -2.4042e-01,\n",
       "          -2.2820e-01, -6.1515e-01,  1.4912e-03, -4.4189e-01],\n",
       "         [ 1.3797e+00,  8.5886e-01,  3.2711e-01,  4.6039e-01,  4.1836e-01,\n",
       "           2.4775e-01,  1.3903e+00,  7.9141e-01,  1.6236e+00,  7.0902e-01,\n",
       "           1.3262e+00,  2.8547e-01,  7.8809e-01,  1.1805e+00,  3.6991e-01,\n",
       "           9.2890e-01,  1.3546e+00,  9.4937e-01,  3.5100e-01,  1.1698e+00,\n",
       "           1.1884e+00,  1.4224e+00,  8.6805e-01,  1.2305e+00],\n",
       "         [ 1.2182e+00,  6.2743e-01, -2.8537e-01, -2.7344e-02, -2.8973e-02,\n",
       "          -2.6859e-01,  1.3413e+00,  4.9320e-01,  1.2896e+00,  1.6366e-01,\n",
       "           8.3406e-01, -2.4462e-01,  3.8774e-01,  9.7723e-01,  2.1040e-01,\n",
       "           6.1065e-01,  1.2994e+00,  4.9902e-01, -1.0572e-01,  7.7940e-01,\n",
       "           1.0556e+00,  1.2146e+00,  2.7439e-01,  7.5483e-01]],\n",
       "\n",
       "        [[ 3.5743e-01,  4.3819e-01,  2.4744e-01,  1.0586e-01,  1.2294e-01,\n",
       "           9.1638e-02,  2.9939e-01,  2.0295e-01,  2.0116e-01,  2.1601e-01,\n",
       "           1.7467e-01,  1.0564e-01,  2.7872e-02,  2.5658e-01,  3.5117e-01,\n",
       "           1.0292e-01,  2.7428e-01,  1.3038e-01,  3.1838e-01,  2.0171e-01,\n",
       "           2.1178e-01,  3.2448e-01,  1.7109e-01,  2.1877e-01],\n",
       "         [-5.1337e-01, -1.3968e-01, -1.2314e-01, -1.3962e-01, -1.0471e-01,\n",
       "          -2.3611e-02, -4.1811e-01, -2.5085e-01, -6.5183e-01, -1.3048e-01,\n",
       "          -2.5764e-01, -2.8322e-02, -2.8458e-01, -2.3315e-01,  1.1494e-01,\n",
       "          -7.4278e-02, -3.8102e-01, -1.9055e-01,  2.1507e-01, -2.0400e-01,\n",
       "          -2.0381e-01, -6.1486e-01,  3.2059e-02, -4.3694e-01],\n",
       "         [ 1.3725e+00,  8.1650e-01,  3.4415e-01,  4.8370e-01,  4.7226e-01,\n",
       "           3.1219e-01,  1.3884e+00,  8.1279e-01,  1.6831e+00,  7.3561e-01,\n",
       "           1.2710e+00,  2.9318e-01,  8.2750e-01,  1.1165e+00,  3.3857e-01,\n",
       "           8.6511e-01,  1.3246e+00,  9.4016e-01,  3.2812e-01,  1.1151e+00,\n",
       "           1.1202e+00,  1.4336e+00,  8.6582e-01,  1.2264e+00],\n",
       "         [ 1.2085e+00,  5.5559e-01, -2.6247e-01, -3.8199e-04,  3.1018e-02,\n",
       "          -2.0992e-01,  1.3164e+00,  5.0558e-01,  1.3479e+00,  1.5878e-01,\n",
       "           7.6716e-01, -2.2792e-01,  4.7389e-01,  9.1389e-01,  1.7280e-01,\n",
       "           5.7354e-01,  1.2793e+00,  4.7964e-01, -1.3521e-01,  7.2299e-01,\n",
       "           9.8636e-01,  1.2206e+00,  2.4092e-01,  7.3671e-01]]],\n",
       "       grad_fn=<AddBackward0>)"
      ]
     },
     "execution_count": 4,
     "metadata": {},
     "output_type": "execute_result"
    }
   ],
   "source": [
    "output = model(x)\n",
    "output"
   ]
  },
  {
   "cell_type": "code",
   "execution_count": 5,
   "metadata": {},
   "outputs": [
    {
     "data": {
      "text/plain": [
       "torch.Size([2, 4, 24])"
      ]
     },
     "execution_count": 5,
     "metadata": {},
     "output_type": "execute_result"
    }
   ],
   "source": [
    "output.shape"
   ]
  },
  {
   "cell_type": "code",
   "execution_count": 10,
   "metadata": {
    "scrolled": true
   },
   "outputs": [
    {
     "data": {
      "text/plain": [
       "Sequential(\n",
       "  (0): TCNEncoder(\n",
       "    (encoder): Sequential(\n",
       "      (0): DilationTCN(\n",
       "        (network): Sequential(\n",
       "          (0): TCNBlock(\n",
       "            (tcn): Sequential(\n",
       "              (0): Conv1d(4, 10, kernel_size=(2,), stride=(1,), padding=(1,))\n",
       "              (1): Chomp1d()\n",
       "              (2): LeakyReLU(negative_slope=0.01)\n",
       "              (3): Conv1d(10, 10, kernel_size=(2,), stride=(1,), padding=(1,))\n",
       "              (4): Chomp1d()\n",
       "              (5): LeakyReLU(negative_slope=0.01)\n",
       "            )\n",
       "            (up_down_sampling): Conv1d(4, 10, kernel_size=(1,), stride=(1,))\n",
       "          )\n",
       "          (1): TCNBlock(\n",
       "            (tcn): Sequential(\n",
       "              (0): Conv1d(10, 10, kernel_size=(2,), stride=(1,), padding=(2,), dilation=(2,))\n",
       "              (1): Chomp1d()\n",
       "              (2): LeakyReLU(negative_slope=0.01)\n",
       "              (3): Conv1d(10, 10, kernel_size=(2,), stride=(1,), padding=(2,), dilation=(2,))\n",
       "              (4): Chomp1d()\n",
       "              (5): LeakyReLU(negative_slope=0.01)\n",
       "            )\n",
       "          )\n",
       "          (2): TCNBlock(\n",
       "            (tcn): Sequential(\n",
       "              (0): Conv1d(10, 10, kernel_size=(2,), stride=(1,), padding=(4,), dilation=(4,))\n",
       "              (1): Chomp1d()\n",
       "              (2): LeakyReLU(negative_slope=0.01)\n",
       "              (3): Conv1d(10, 10, kernel_size=(2,), stride=(1,), padding=(4,), dilation=(4,))\n",
       "              (4): Chomp1d()\n",
       "              (5): LeakyReLU(negative_slope=0.01)\n",
       "            )\n",
       "          )\n",
       "          (3): TCNBlock(\n",
       "            (tcn): Sequential(\n",
       "              (0): Conv1d(10, 10, kernel_size=(2,), stride=(1,), padding=(8,), dilation=(8,))\n",
       "              (1): Chomp1d()\n",
       "              (2): LeakyReLU(negative_slope=0.01)\n",
       "              (3): Conv1d(10, 10, kernel_size=(2,), stride=(1,), padding=(8,), dilation=(8,))\n",
       "              (4): Chomp1d()\n",
       "              (5): LeakyReLU(negative_slope=0.01)\n",
       "            )\n",
       "          )\n",
       "          (4): TCNBlock(\n",
       "            (tcn): Sequential(\n",
       "              (0): Conv1d(10, 10, kernel_size=(2,), stride=(1,), padding=(16,), dilation=(16,))\n",
       "              (1): Chomp1d()\n",
       "              (2): LeakyReLU(negative_slope=0.01)\n",
       "              (3): Conv1d(10, 10, kernel_size=(2,), stride=(1,), padding=(16,), dilation=(16,))\n",
       "              (4): Chomp1d()\n",
       "              (5): LeakyReLU(negative_slope=0.01)\n",
       "            )\n",
       "          )\n",
       "        )\n",
       "      )\n",
       "      (1): AdaptiveMaxPool1d(output_size=1)\n",
       "      (2): Transpose()\n",
       "      (3): Linear(in_features=10, out_features=5, bias=True)\n",
       "    )\n",
       "  )\n",
       ")"
      ]
     },
     "execution_count": 10,
     "metadata": {},
     "output_type": "execute_result"
    }
   ],
   "source": [
    "layers = list(model.ae_tcn.children())\n",
    "encoder = nn.Sequential(*layers[:-1]) \n",
    "encoder"
   ]
  },
  {
   "cell_type": "code",
   "execution_count": 14,
   "metadata": {},
   "outputs": [
    {
     "data": {
      "text/plain": [
       "torch.Size([2, 1, 5])"
      ]
     },
     "execution_count": 14,
     "metadata": {},
     "output_type": "execute_result"
    }
   ],
   "source": [
    "encoder(x).shape"
   ]
  },
  {
   "cell_type": "code",
   "execution_count": null,
   "metadata": {},
   "outputs": [],
   "source": []
  }
 ],
 "metadata": {
  "kernelspec": {
   "display_name": "Python 3",
   "language": "python",
   "name": "python3"
  },
  "language_info": {
   "codemirror_mode": {
    "name": "ipython",
    "version": 3
   },
   "file_extension": ".py",
   "mimetype": "text/x-python",
   "name": "python",
   "nbconvert_exporter": "python",
   "pygments_lexer": "ipython3",
   "version": "3.6.8"
  }
 },
 "nbformat": 4,
 "nbformat_minor": 2
}
