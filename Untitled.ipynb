{
 "cells": [
  {
   "cell_type": "code",
   "execution_count": 1,
   "metadata": {},
   "outputs": [],
   "source": [
    "import torch\n",
    "import torch.nn as nn\n",
    "from ae_tcn import *"
   ]
  },
  {
   "cell_type": "code",
   "execution_count": 18,
   "metadata": {},
   "outputs": [
    {
     "data": {
      "text/plain": [
       "tensor([[[0.5753, 0.8334, 0.5846, 0.8873, 0.6439, 0.9352, 0.6174, 0.9550,\n",
       "          0.1843, 0.7480, 0.7494, 0.0830, 0.4819, 0.0298, 0.9627, 0.1832,\n",
       "          0.6236, 0.6693, 0.7879, 0.6548, 0.6614, 0.5230, 0.0336, 0.0322],\n",
       "         [0.9773, 0.9715, 0.7562, 0.6833, 0.7913, 0.4398, 0.0374, 0.5265,\n",
       "          0.8738, 0.2550, 0.8005, 0.2871, 0.5177, 0.3459, 0.8122, 0.4006,\n",
       "          0.3271, 0.9325, 0.3146, 0.5124, 0.1289, 0.8359, 0.1961, 0.5088],\n",
       "         [0.2933, 0.2589, 0.3125, 0.4998, 0.0969, 0.8298, 0.6046, 0.8775,\n",
       "          0.5650, 0.0829, 0.6142, 0.6533, 0.3499, 0.8069, 0.2342, 0.9323,\n",
       "          0.7735, 0.5796, 0.2713, 0.3306, 0.1969, 0.0290, 0.5589, 0.5891],\n",
       "         [0.0771, 0.8030, 0.9229, 0.2099, 0.7269, 0.1831, 0.4192, 0.9515,\n",
       "          0.8295, 0.4224, 0.4431, 0.8562, 0.6294, 0.1601, 0.2643, 0.1244,\n",
       "          0.7905, 0.7970, 0.2956, 0.9755, 0.2781, 0.1227, 0.7434, 0.2170]],\n",
       "\n",
       "        [[0.9477, 0.6458, 0.8167, 0.2998, 0.0101, 0.1537, 0.0348, 0.3205,\n",
       "          0.8423, 0.7792, 0.5931, 0.7699, 0.9022, 0.9390, 1.0000, 0.4149,\n",
       "          0.7060, 0.8713, 0.9700, 0.2070, 0.8145, 0.9550, 0.4084, 0.2559],\n",
       "         [0.5425, 0.6229, 0.5167, 0.4254, 0.1862, 0.0478, 0.8663, 0.4222,\n",
       "          0.6503, 0.7614, 0.2817, 0.1278, 0.4894, 0.2455, 0.5037, 0.4679,\n",
       "          0.4884, 0.7770, 0.0807, 0.4501, 0.3248, 0.9264, 0.1218, 0.3458],\n",
       "         [0.8412, 0.6807, 0.9076, 0.3717, 0.0864, 0.7674, 0.6429, 0.5939,\n",
       "          0.0356, 0.5921, 0.1104, 0.4355, 0.8935, 0.9623, 0.4265, 0.8568,\n",
       "          0.1860, 0.7572, 0.7228, 0.3747, 0.9380, 0.7617, 0.9003, 0.2613],\n",
       "         [0.4730, 0.4336, 0.4645, 0.1967, 0.1179, 0.7961, 0.7250, 0.6419,\n",
       "          0.6323, 0.8181, 0.6399, 0.5383, 0.6937, 0.0211, 0.4337, 0.9715,\n",
       "          0.7202, 0.1122, 0.3290, 0.2996, 0.9766, 0.3403, 0.5892, 0.3047]]])"
      ]
     },
     "execution_count": 18,
     "metadata": {},
     "output_type": "execute_result"
    }
   ],
   "source": [
    "x = torch.rand(2, 4, 24)\n",
    "x"
   ]
  },
  {
   "cell_type": "code",
   "execution_count": 19,
   "metadata": {},
   "outputs": [
    {
     "data": {
      "text/plain": [
       "AutoEncoderTCN(\n",
       "  (ae_tcn): Sequential(\n",
       "    (0): TCNEncoder(\n",
       "      (encoder): Sequential(\n",
       "        (0): DilationTCN(\n",
       "          (network): Sequential(\n",
       "            (0): TCNBlock(\n",
       "              (tcn): Sequential(\n",
       "                (0): Conv1d(4, 10, kernel_size=(2,), stride=(1,), padding=(1,))\n",
       "                (1): Chomp1d()\n",
       "                (2): LeakyReLU(negative_slope=0.01)\n",
       "                (3): Conv1d(10, 10, kernel_size=(2,), stride=(1,), padding=(1,))\n",
       "                (4): Chomp1d()\n",
       "                (5): LeakyReLU(negative_slope=0.01)\n",
       "              )\n",
       "              (up_down_sampling): Conv1d(4, 10, kernel_size=(1,), stride=(1,))\n",
       "            )\n",
       "            (1): TCNBlock(\n",
       "              (tcn): Sequential(\n",
       "                (0): Conv1d(10, 10, kernel_size=(2,), stride=(1,), padding=(2,), dilation=(2,))\n",
       "                (1): Chomp1d()\n",
       "                (2): LeakyReLU(negative_slope=0.01)\n",
       "                (3): Conv1d(10, 10, kernel_size=(2,), stride=(1,), padding=(2,), dilation=(2,))\n",
       "                (4): Chomp1d()\n",
       "                (5): LeakyReLU(negative_slope=0.01)\n",
       "              )\n",
       "            )\n",
       "            (2): TCNBlock(\n",
       "              (tcn): Sequential(\n",
       "                (0): Conv1d(10, 10, kernel_size=(2,), stride=(1,), padding=(4,), dilation=(4,))\n",
       "                (1): Chomp1d()\n",
       "                (2): LeakyReLU(negative_slope=0.01)\n",
       "                (3): Conv1d(10, 10, kernel_size=(2,), stride=(1,), padding=(4,), dilation=(4,))\n",
       "                (4): Chomp1d()\n",
       "                (5): LeakyReLU(negative_slope=0.01)\n",
       "              )\n",
       "            )\n",
       "            (3): TCNBlock(\n",
       "              (tcn): Sequential(\n",
       "                (0): Conv1d(10, 10, kernel_size=(2,), stride=(1,), padding=(8,), dilation=(8,))\n",
       "                (1): Chomp1d()\n",
       "                (2): LeakyReLU(negative_slope=0.01)\n",
       "                (3): Conv1d(10, 10, kernel_size=(2,), stride=(1,), padding=(8,), dilation=(8,))\n",
       "                (4): Chomp1d()\n",
       "                (5): LeakyReLU(negative_slope=0.01)\n",
       "              )\n",
       "            )\n",
       "            (4): TCNBlock(\n",
       "              (tcn): Sequential(\n",
       "                (0): Conv1d(10, 10, kernel_size=(2,), stride=(1,), padding=(16,), dilation=(16,))\n",
       "                (1): Chomp1d()\n",
       "                (2): LeakyReLU(negative_slope=0.01)\n",
       "                (3): Conv1d(10, 10, kernel_size=(2,), stride=(1,), padding=(16,), dilation=(16,))\n",
       "                (4): Chomp1d()\n",
       "                (5): LeakyReLU(negative_slope=0.01)\n",
       "              )\n",
       "            )\n",
       "          )\n",
       "        )\n",
       "        (1): AdaptiveMaxPool1d(output_size=1)\n",
       "        (2): Transpose()\n",
       "        (3): Linear(in_features=10, out_features=5, bias=True)\n",
       "      )\n",
       "    )\n",
       "    (1): TCNDecoder(\n",
       "      (decoder): Sequential(\n",
       "        (0): Transpose()\n",
       "        (1): Linear(in_features=1, out_features=24, bias=True)\n",
       "        (2): DilationTCN(\n",
       "          (network): Sequential(\n",
       "            (0): TCNBlock(\n",
       "              (tcn): Sequential(\n",
       "                (0): Conv1d(5, 10, kernel_size=(2,), stride=(1,), padding=(1,))\n",
       "                (1): Chomp1d()\n",
       "                (2): LeakyReLU(negative_slope=0.01)\n",
       "                (3): Conv1d(10, 10, kernel_size=(2,), stride=(1,), padding=(1,))\n",
       "                (4): Chomp1d()\n",
       "                (5): LeakyReLU(negative_slope=0.01)\n",
       "              )\n",
       "              (up_down_sampling): Conv1d(5, 10, kernel_size=(1,), stride=(1,))\n",
       "            )\n",
       "            (1): TCNBlock(\n",
       "              (tcn): Sequential(\n",
       "                (0): Conv1d(10, 10, kernel_size=(2,), stride=(1,), padding=(2,), dilation=(2,))\n",
       "                (1): Chomp1d()\n",
       "                (2): LeakyReLU(negative_slope=0.01)\n",
       "                (3): Conv1d(10, 10, kernel_size=(2,), stride=(1,), padding=(2,), dilation=(2,))\n",
       "                (4): Chomp1d()\n",
       "                (5): LeakyReLU(negative_slope=0.01)\n",
       "              )\n",
       "            )\n",
       "            (2): TCNBlock(\n",
       "              (tcn): Sequential(\n",
       "                (0): Conv1d(10, 10, kernel_size=(2,), stride=(1,), padding=(4,), dilation=(4,))\n",
       "                (1): Chomp1d()\n",
       "                (2): LeakyReLU(negative_slope=0.01)\n",
       "                (3): Conv1d(10, 10, kernel_size=(2,), stride=(1,), padding=(4,), dilation=(4,))\n",
       "                (4): Chomp1d()\n",
       "                (5): LeakyReLU(negative_slope=0.01)\n",
       "              )\n",
       "            )\n",
       "            (3): TCNBlock(\n",
       "              (tcn): Sequential(\n",
       "                (0): Conv1d(10, 10, kernel_size=(2,), stride=(1,), padding=(8,), dilation=(8,))\n",
       "                (1): Chomp1d()\n",
       "                (2): LeakyReLU(negative_slope=0.01)\n",
       "                (3): Conv1d(10, 10, kernel_size=(2,), stride=(1,), padding=(8,), dilation=(8,))\n",
       "                (4): Chomp1d()\n",
       "                (5): LeakyReLU(negative_slope=0.01)\n",
       "              )\n",
       "            )\n",
       "            (4): TCNBlock(\n",
       "              (tcn): Sequential(\n",
       "                (0): Conv1d(10, 4, kernel_size=(2,), stride=(1,), padding=(16,), dilation=(16,))\n",
       "                (1): Chomp1d()\n",
       "                (2): LeakyReLU(negative_slope=0.01)\n",
       "                (3): Conv1d(4, 4, kernel_size=(2,), stride=(1,), padding=(16,), dilation=(16,))\n",
       "                (4): Chomp1d()\n",
       "                (5): LeakyReLU(negative_slope=0.01)\n",
       "              )\n",
       "              (up_down_sampling): Conv1d(10, 4, kernel_size=(1,), stride=(1,))\n",
       "            )\n",
       "          )\n",
       "        )\n",
       "      )\n",
       "    )\n",
       "  )\n",
       ")"
      ]
     },
     "execution_count": 19,
     "metadata": {},
     "output_type": "execute_result"
    }
   ],
   "source": [
    "model = AutoEncoderTCN()\n",
    "model"
   ]
  },
  {
   "cell_type": "code",
   "execution_count": 20,
   "metadata": {
    "scrolled": true
   },
   "outputs": [
    {
     "data": {
      "text/plain": [
       "tensor([[[ 0.3806,  0.4771,  0.3361,  0.2942,  0.4915,  0.4603,  0.3020,\n",
       "           0.4518,  0.3867,  0.3557,  0.5629,  0.3984,  0.3512,  0.3014,\n",
       "           0.4793,  0.5163,  0.3842,  0.5030,  0.3600,  0.4584,  0.4978,\n",
       "           0.3179,  0.3999,  0.5544],\n",
       "         [ 0.0839, -0.0738, -0.1818,  0.2471,  0.1598,  0.0244, -0.0090,\n",
       "           0.0548, -0.0575,  0.3395,  0.1843,  0.0313, -0.1513,  0.0897,\n",
       "           0.0389,  0.3245,  0.1520,  0.0251,  0.0829,  0.1946,  0.1784,\n",
       "          -0.1165,  0.1788,  0.1655],\n",
       "         [ 0.5173, -0.2852, -0.3435,  0.5212,  0.0710, -0.0542,  0.4877,\n",
       "          -0.5525, -0.2825,  0.4910,  0.2125, -0.1222, -0.1602,  0.3069,\n",
       "           0.0890,  0.4464,  0.3846, -0.4678,  0.4578, -0.2083,  0.2198,\n",
       "          -0.3874,  0.0742,  0.3749],\n",
       "         [-0.0806, -0.1461, -0.1844, -0.3222, -0.0377, -0.2351,  0.0601,\n",
       "          -0.3238, -0.3450, -0.3910, -0.0719, -0.1731, -0.1185, -0.1354,\n",
       "           0.1048, -0.0590,  0.1136, -0.3258, -0.0714, -0.1420, -0.2038,\n",
       "          -0.0868, -0.3572, -0.1656]],\n",
       "\n",
       "        [[ 0.3812,  0.4770,  0.3343,  0.2969,  0.4912,  0.4618,  0.2984,\n",
       "           0.4546,  0.3870,  0.3602,  0.5604,  0.4016,  0.3503,  0.3031,\n",
       "           0.4780,  0.5171,  0.3834,  0.5043,  0.3558,  0.4616,  0.4988,\n",
       "           0.3177,  0.4026,  0.5542],\n",
       "         [ 0.0841, -0.0740, -0.1829,  0.2453,  0.1595,  0.0241, -0.0151,\n",
       "           0.0584, -0.0577,  0.3396,  0.1819,  0.0329, -0.1539,  0.0916,\n",
       "           0.0390,  0.3295,  0.1492,  0.0255,  0.0852,  0.1961,  0.1795,\n",
       "          -0.1191,  0.1768,  0.1646],\n",
       "         [ 0.5159, -0.2858, -0.3369,  0.5171,  0.0688, -0.0569,  0.4971,\n",
       "          -0.5609, -0.2801,  0.4852,  0.2085, -0.1187, -0.1519,  0.3112,\n",
       "           0.0938,  0.4441,  0.3884, -0.4731,  0.4679, -0.2107,  0.2153,\n",
       "          -0.3764,  0.0645,  0.3718],\n",
       "         [-0.0792, -0.1456, -0.1926, -0.3174, -0.0372, -0.2326,  0.0499,\n",
       "          -0.3108, -0.3469, -0.3827, -0.0718, -0.1716, -0.1253, -0.1372,\n",
       "           0.0991, -0.0533,  0.1084, -0.3178, -0.0803, -0.1368, -0.1994,\n",
       "          -0.0957, -0.3503, -0.1619]]], grad_fn=<AddBackward0>)"
      ]
     },
     "execution_count": 20,
     "metadata": {},
     "output_type": "execute_result"
    }
   ],
   "source": [
    "output = model(x)\n",
    "output"
   ]
  },
  {
   "cell_type": "code",
   "execution_count": 8,
   "metadata": {},
   "outputs": [
    {
     "data": {
      "text/plain": [
       "torch.Size([2, 4, 24])"
      ]
     },
     "execution_count": 8,
     "metadata": {},
     "output_type": "execute_result"
    }
   ],
   "source": [
    "output.shape"
   ]
  },
  {
   "cell_type": "code",
   "execution_count": 9,
   "metadata": {
    "scrolled": true
   },
   "outputs": [
    {
     "data": {
      "text/plain": [
       "Sequential(\n",
       "  (0): TCNEncoder(\n",
       "    (encoder): Sequential(\n",
       "      (0): DilationTCN(\n",
       "        (network): Sequential(\n",
       "          (0): TCNBlock(\n",
       "            (tcn): Sequential(\n",
       "              (0): Conv1d(4, 10, kernel_size=(2,), stride=(1,), padding=(1,))\n",
       "              (1): Chomp1d()\n",
       "              (2): LeakyReLU(negative_slope=0.01)\n",
       "              (3): Conv1d(10, 10, kernel_size=(2,), stride=(1,), padding=(1,))\n",
       "              (4): Chomp1d()\n",
       "              (5): LeakyReLU(negative_slope=0.01)\n",
       "            )\n",
       "            (up_down_sampling): Conv1d(4, 10, kernel_size=(1,), stride=(1,))\n",
       "            (relu): LeakyReLU(negative_slope=0.01)\n",
       "          )\n",
       "          (1): TCNBlock(\n",
       "            (tcn): Sequential(\n",
       "              (0): Conv1d(10, 10, kernel_size=(2,), stride=(1,), padding=(2,), dilation=(2,))\n",
       "              (1): Chomp1d()\n",
       "              (2): LeakyReLU(negative_slope=0.01)\n",
       "              (3): Conv1d(10, 10, kernel_size=(2,), stride=(1,), padding=(2,), dilation=(2,))\n",
       "              (4): Chomp1d()\n",
       "              (5): LeakyReLU(negative_slope=0.01)\n",
       "            )\n",
       "            (relu): LeakyReLU(negative_slope=0.01)\n",
       "          )\n",
       "          (2): TCNBlock(\n",
       "            (tcn): Sequential(\n",
       "              (0): Conv1d(10, 10, kernel_size=(2,), stride=(1,), padding=(4,), dilation=(4,))\n",
       "              (1): Chomp1d()\n",
       "              (2): LeakyReLU(negative_slope=0.01)\n",
       "              (3): Conv1d(10, 10, kernel_size=(2,), stride=(1,), padding=(4,), dilation=(4,))\n",
       "              (4): Chomp1d()\n",
       "              (5): LeakyReLU(negative_slope=0.01)\n",
       "            )\n",
       "            (relu): LeakyReLU(negative_slope=0.01)\n",
       "          )\n",
       "          (3): TCNBlock(\n",
       "            (tcn): Sequential(\n",
       "              (0): Conv1d(10, 10, kernel_size=(2,), stride=(1,), padding=(8,), dilation=(8,))\n",
       "              (1): Chomp1d()\n",
       "              (2): LeakyReLU(negative_slope=0.01)\n",
       "              (3): Conv1d(10, 10, kernel_size=(2,), stride=(1,), padding=(8,), dilation=(8,))\n",
       "              (4): Chomp1d()\n",
       "              (5): LeakyReLU(negative_slope=0.01)\n",
       "            )\n",
       "            (relu): LeakyReLU(negative_slope=0.01)\n",
       "          )\n",
       "          (4): TCNBlock(\n",
       "            (tcn): Sequential(\n",
       "              (0): Conv1d(10, 10, kernel_size=(2,), stride=(1,), padding=(16,), dilation=(16,))\n",
       "              (1): Chomp1d()\n",
       "              (2): LeakyReLU(negative_slope=0.01)\n",
       "              (3): Conv1d(10, 10, kernel_size=(2,), stride=(1,), padding=(16,), dilation=(16,))\n",
       "              (4): Chomp1d()\n",
       "              (5): LeakyReLU(negative_slope=0.01)\n",
       "            )\n",
       "            (relu): LeakyReLU(negative_slope=0.01)\n",
       "          )\n",
       "        )\n",
       "      )\n",
       "      (1): AdaptiveMaxPool1d(output_size=1)\n",
       "      (2): Transpose()\n",
       "      (3): Linear(in_features=10, out_features=5, bias=True)\n",
       "    )\n",
       "  )\n",
       ")"
      ]
     },
     "execution_count": 9,
     "metadata": {},
     "output_type": "execute_result"
    }
   ],
   "source": [
    "layers = list(model.ae_tcn.children())\n",
    "encoder = nn.Sequential(*layers[:-1]) \n",
    "encoder"
   ]
  },
  {
   "cell_type": "code",
   "execution_count": 14,
   "metadata": {},
   "outputs": [
    {
     "data": {
      "text/plain": [
       "torch.Size([2, 1, 5])"
      ]
     },
     "execution_count": 14,
     "metadata": {},
     "output_type": "execute_result"
    }
   ],
   "source": [
    "encoder(x).shape"
   ]
  },
  {
   "cell_type": "code",
   "execution_count": 4,
   "metadata": {},
   "outputs": [],
   "source": [
    "import json\n",
    "t = {'ss':'gg'}\n",
    "with open('test.txt', 'w') as f:\n",
    "    json.dump(t, f)"
   ]
  },
  {
   "cell_type": "code",
   "execution_count": 7,
   "metadata": {},
   "outputs": [
    {
     "data": {
      "text/plain": [
       "array([[0.0662918 , 0.21491427, 0.24592332, 0.83223128, 0.55519726,\n",
       "        0.92635879],\n",
       "       [0.30298795, 0.74151675, 0.11780557, 0.88411639, 0.92238706,\n",
       "        0.11445098],\n",
       "       [0.95803676, 0.0744373 , 0.73087636, 0.6552559 , 0.27092587,\n",
       "        0.55949527],\n",
       "       [0.64071354, 0.74512438, 0.74691057, 0.71991843, 0.49381706,\n",
       "        0.64234496]])"
      ]
     },
     "execution_count": 7,
     "metadata": {},
     "output_type": "execute_result"
    }
   ],
   "source": [
    "import numpy as np\n",
    "p = np.random.rand(4, 6)\n",
    "p"
   ]
  },
  {
   "cell_type": "code",
   "execution_count": 11,
   "metadata": {},
   "outputs": [
    {
     "data": {
      "text/plain": [
       "array([[[0.0662918 , 0.21491427, 0.24592332, 0.83223128],\n",
       "        [0.55519726, 0.92635879, 0.30298795, 0.74151675],\n",
       "        [0.11780557, 0.88411639, 0.92238706, 0.11445098]],\n",
       "\n",
       "       [[0.95803676, 0.0744373 , 0.73087636, 0.6552559 ],\n",
       "        [0.27092587, 0.55949527, 0.64071354, 0.74512438],\n",
       "        [0.74691057, 0.71991843, 0.49381706, 0.64234496]]])"
      ]
     },
     "execution_count": 11,
     "metadata": {},
     "output_type": "execute_result"
    }
   ],
   "source": [
    "p.reshape((2, 3, 4))\n"
   ]
  },
  {
   "cell_type": "code",
   "execution_count": 21,
   "metadata": {},
   "outputs": [
    {
     "ename": "TypeError",
     "evalue": "object() takes no parameters",
     "output_type": "error",
     "traceback": [
      "\u001b[1;31m---------------------------------------------------------------------------\u001b[0m",
      "\u001b[1;31mTypeError\u001b[0m                                 Traceback (most recent call last)",
      "\u001b[1;32m<ipython-input-21-1fc1be0743f4>\u001b[0m in \u001b[0;36m<module>\u001b[1;34m\u001b[0m\n\u001b[1;32m----> 1\u001b[1;33m \u001b[0mtorch\u001b[0m\u001b[1;33m.\u001b[0m\u001b[0mutils\u001b[0m\u001b[1;33m.\u001b[0m\u001b[0mdata\u001b[0m\u001b[1;33m.\u001b[0m\u001b[0mDataset\u001b[0m\u001b[1;33m(\u001b[0m\u001b[0mx\u001b[0m\u001b[1;33m)\u001b[0m\u001b[1;33m\u001b[0m\u001b[1;33m\u001b[0m\u001b[0m\n\u001b[0m",
      "\u001b[1;31mTypeError\u001b[0m: object() takes no parameters"
     ]
    }
   ],
   "source": [
    "torch.utils.data.Dataset(x)"
   ]
  },
  {
   "cell_type": "code",
   "execution_count": null,
   "metadata": {},
   "outputs": [],
   "source": []
  }
 ],
 "metadata": {
  "kernelspec": {
   "display_name": "Python 3",
   "language": "python",
   "name": "python3"
  },
  "language_info": {
   "codemirror_mode": {
    "name": "ipython",
    "version": 3
   },
   "file_extension": ".py",
   "mimetype": "text/x-python",
   "name": "python",
   "nbconvert_exporter": "python",
   "pygments_lexer": "ipython3",
   "version": "3.6.8"
  }
 },
 "nbformat": 4,
 "nbformat_minor": 2
}
